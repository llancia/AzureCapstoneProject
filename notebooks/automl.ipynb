{
  "cells": [
    {
      "cell_type": "markdown",
      "source": [
        "# Auto ML\n",
        "\n",
        "TODO: Import Dependencies. In the cell below, import all the dependencies that you will need to complete the project."
      ],
      "metadata": {}
    },
    {
      "cell_type": "code",
      "source": [
        "from azureml.core.experiment import Experiment\n",
        "from azureml.core.workspace import Workspace\n",
        "from azureml.train.automl import AutoMLConfig\n",
        "from azureml.core.dataset import Dataset\n",
        "from azureml.core.compute import ComputeTarget, AmlCompute\n",
        "from azureml.core.compute_target import ComputeTargetException\n",
        "from azureml.widgets import RunDetails\n",
        "import sklearn\n",
        "\n",
        "import sys, os"
      ],
      "outputs": [],
      "execution_count": 2,
      "metadata": {
        "gather": {
          "logged": 1631111923645
        },
        "jupyter": {
          "outputs_hidden": false,
          "source_hidden": false
        },
        "nteract": {
          "transient": {
            "deleting": false
          }
        }
      }
    },
    {
      "cell_type": "markdown",
      "source": [
        "## Dataset\n",
        "\n",
        "### Overview\n",
        "TODO: In this markdown cell, give an overview of the dataset you are using. Also mention the task you will be performing.\n",
        "\n",
        "\n",
        "TODO: Get data. In the cell below, write code to access the data you will be using in this project. Remember that the dataset needs to be external."
      ],
      "metadata": {}
    },
    {
      "cell_type": "code",
      "source": [
        "# Worspace and experiment\n",
        "\n",
        "ws = Workspace.from_config()\n",
        "experiment_name = 'hyperdrive-udacity-capstone-automl'\n",
        "\n",
        "\n",
        "experiment=Experiment(ws, experiment_name)\n",
        "\n",
        "print('Workspace name: ' + ws.name, \n",
        "      'Azure region: ' + ws.location, \n",
        "      'Subscription id: ' + ws.subscription_id, \n",
        "      'Resource group: ' + ws.resource_group, sep = '\\n')"
      ],
      "outputs": [
        {
          "output_type": "stream",
          "name": "stdout",
          "text": "Workspace name: aml-wwe-ictx-dsplay\nAzure region: westeurope\nSubscription id: ec5ba19e-6205-418f-a52d-d0943090ca16\nResource group: rg-wwe-ictx-dsplayground\n"
        }
      ],
      "execution_count": 3,
      "metadata": {
        "gather": {
          "logged": 1631111925957
        },
        "jupyter": {
          "outputs_hidden": false,
          "source_hidden": false
        },
        "nteract": {
          "transient": {
            "deleting": false
          }
        }
      }
    },
    {
      "cell_type": "code",
      "source": [
        "# Dataset\n",
        "\n",
        "\n",
        "dataset_name = \"HRAnalytics_train_dataset\"\n",
        "\n",
        "dataset = ws.datasets[dataset_name]\n",
        "\n",
        "df = dataset.to_pandas_dataframe()\n",
        "df.head()"
      ],
      "outputs": [
        {
          "output_type": "execute_result",
          "execution_count": 4,
          "data": {
            "text/plain": "       city city_development_index gender      relevent_experience  \\\n0   city_16                   0.91   Male  Has relevent experience   \n1   city_67                  0.855   Male  Has relevent experience   \n2   city_21                  0.624   Male  Has relevent experience   \n3   city_99                  0.915   None   No relevent experience   \n4  city_103                   0.92   Male  Has relevent experience   \n\n  enrolled_university education_level major_discipline experience  \\\n0       no_enrollment         Masters             STEM         16   \n1    Full time course         Masters            Other         16   \n2       no_enrollment        Graduate             STEM          1   \n3    Full time course     High School             None         10   \n4       no_enrollment        Graduate             STEM          6   \n\n  company_size   company_type last_new_job training_hours target  \n0        50-99           None        never              4     no  \n1         None           None           >4             45    yes  \n2         None        Pvt Ltd        never             68    yes  \n3       10000+        Pvt Ltd            1             97     no  \n4         None  Public Sector            2            116    yes  ",
            "text/html": "<div>\n<style scoped>\n    .dataframe tbody tr th:only-of-type {\n        vertical-align: middle;\n    }\n\n    .dataframe tbody tr th {\n        vertical-align: top;\n    }\n\n    .dataframe thead th {\n        text-align: right;\n    }\n</style>\n<table border=\"1\" class=\"dataframe\">\n  <thead>\n    <tr style=\"text-align: right;\">\n      <th></th>\n      <th>city</th>\n      <th>city_development_index</th>\n      <th>gender</th>\n      <th>relevent_experience</th>\n      <th>enrolled_university</th>\n      <th>education_level</th>\n      <th>major_discipline</th>\n      <th>experience</th>\n      <th>company_size</th>\n      <th>company_type</th>\n      <th>last_new_job</th>\n      <th>training_hours</th>\n      <th>target</th>\n    </tr>\n  </thead>\n  <tbody>\n    <tr>\n      <th>0</th>\n      <td>city_16</td>\n      <td>0.91</td>\n      <td>Male</td>\n      <td>Has relevent experience</td>\n      <td>no_enrollment</td>\n      <td>Masters</td>\n      <td>STEM</td>\n      <td>16</td>\n      <td>50-99</td>\n      <td>None</td>\n      <td>never</td>\n      <td>4</td>\n      <td>no</td>\n    </tr>\n    <tr>\n      <th>1</th>\n      <td>city_67</td>\n      <td>0.855</td>\n      <td>Male</td>\n      <td>Has relevent experience</td>\n      <td>Full time course</td>\n      <td>Masters</td>\n      <td>Other</td>\n      <td>16</td>\n      <td>None</td>\n      <td>None</td>\n      <td>&gt;4</td>\n      <td>45</td>\n      <td>yes</td>\n    </tr>\n    <tr>\n      <th>2</th>\n      <td>city_21</td>\n      <td>0.624</td>\n      <td>Male</td>\n      <td>Has relevent experience</td>\n      <td>no_enrollment</td>\n      <td>Graduate</td>\n      <td>STEM</td>\n      <td>1</td>\n      <td>None</td>\n      <td>Pvt Ltd</td>\n      <td>never</td>\n      <td>68</td>\n      <td>yes</td>\n    </tr>\n    <tr>\n      <th>3</th>\n      <td>city_99</td>\n      <td>0.915</td>\n      <td>None</td>\n      <td>No relevent experience</td>\n      <td>Full time course</td>\n      <td>High School</td>\n      <td>None</td>\n      <td>10</td>\n      <td>10000+</td>\n      <td>Pvt Ltd</td>\n      <td>1</td>\n      <td>97</td>\n      <td>no</td>\n    </tr>\n    <tr>\n      <th>4</th>\n      <td>city_103</td>\n      <td>0.92</td>\n      <td>Male</td>\n      <td>Has relevent experience</td>\n      <td>no_enrollment</td>\n      <td>Graduate</td>\n      <td>STEM</td>\n      <td>6</td>\n      <td>None</td>\n      <td>Public Sector</td>\n      <td>2</td>\n      <td>116</td>\n      <td>yes</td>\n    </tr>\n  </tbody>\n</table>\n</div>"
          },
          "metadata": {}
        }
      ],
      "execution_count": 4,
      "metadata": {
        "gather": {
          "logged": 1631111934923
        }
      }
    },
    {
      "cell_type": "markdown",
      "source": [
        "## Environment & Run Configuration\r\n",
        "\r\n",
        "\r\n",
        "\r\n"
      ],
      "metadata": {}
    },
    {
      "cell_type": "code",
      "source": [
        "# Create compute cluster\n",
        "\n",
        "compute_cluster_name = \"alpha\"\n",
        "\n",
        "try:\n",
        "    compute_cluster = ComputeTarget(workspace=ws, name=compute_cluster_name)\n",
        "    print(\"Found existing cluster, please use it.\")\n",
        "except ComputeTargetException:\n",
        "    compute_config = AmlCompute.provisioning_configuration(vm_size='STANDARD_D2_V2', max_nodes=4)\n",
        "    compute_cluster = ComputeTarget.create(ws, compute_cluster_name, compute_config)\n",
        "\n",
        "compute_cluster.wait_for_completion(show_output=True)"
      ],
      "outputs": [
        {
          "output_type": "stream",
          "name": "stdout",
          "text": "Found existing cluster, please use it.\nSucceeded\nAmlCompute wait for completion finished\n\nMinimum number of nodes requested have been provisioned\n"
        }
      ],
      "execution_count": 4,
      "metadata": {
        "gather": {
          "logged": 1631108339382
        }
      }
    },
    {
      "cell_type": "code",
      "source": [
        "from azureml.core.runconfig import RunConfiguration\n",
        "\n",
        "from azureml.core import Environment\n",
        "from azureml.core.conda_dependencies import CondaDependencies\n",
        "env = Environment('dataprep')\n",
        "\n",
        "conda = CondaDependencies()\n",
        "conda.add_conda_package(\"python=3.8\")\n",
        "\n",
        "# add pip packages\n",
        "conda.add_pip_package('azureml-core')\n",
        "conda.add_pip_package('pandas')\n",
        "conda.add_pip_package('numpy')\n",
        "conda.add_pip_package(\"scikit-learn==0.22.2.post1\")\n",
        "\n",
        "# add conda dependencies to environment\n",
        "env.python.conda_dependencies = conda\n",
        "\n",
        "runconfig = RunConfiguration()\n",
        "runconfig.environment  = env\n",
        "runconfig.target = compute_cluster\n",
        "\n",
        "\n",
        "\n"
      ],
      "outputs": [],
      "execution_count": 5,
      "metadata": {
        "gather": {
          "logged": 1631108340354
        }
      }
    },
    {
      "cell_type": "markdown",
      "source": [
        "# AutoMl\n",
        "\n",
        "- define a training job\n",
        "- configure hyperdrive on that job\n"
      ],
      "metadata": {}
    },
    {
      "cell_type": "code",
      "source": [
        "automl_settings = {\n",
        "    \"experiment_timeout_minutes\": 20,\n",
        "    \"max_concurrent_iterations\": 4,\n",
        "    \"n_cross_validations\": 4,\n",
        "    \"primary_metric\" : 'AUC_weighted'\n",
        "}\n",
        "\n",
        "automl_config = AutoMLConfig(compute_target=compute_cluster,\n",
        "                             task=\"classification\",\n",
        "                             label_column_name=\"target\",   \n",
        "                             training_data =dataset,\n",
        "                             enable_early_stopping=True,\n",
        "                             featurization='auto',\n",
        "                             debug_log=\"automl_errors.log\",\n",
        "                             **automl_settings\n",
        "                            )\n"
      ],
      "outputs": [],
      "execution_count": 7,
      "metadata": {
        "gather": {
          "logged": 1631108341553
        }
      }
    },
    {
      "cell_type": "code",
      "source": [
        "# TODO: Submit your experiment\n",
        "remote_run = experiment.submit(automl_config)"
      ],
      "outputs": [],
      "execution_count": 8,
      "metadata": {
        "gather": {
          "logged": 1631108343857
        },
        "jupyter": {
          "outputs_hidden": false,
          "source_hidden": false
        },
        "nteract": {
          "transient": {
            "deleting": false
          }
        }
      }
    },
    {
      "cell_type": "markdown",
      "source": [
        "## Run Details\n",
        "\n",
        "OPTIONAL: Write about the different models trained and their performance. Why do you think some models did better than others?\n",
        "\n",
        "TODO: In the cell below, use the `RunDetails` widget to show the different experiments."
      ],
      "metadata": {}
    },
    {
      "cell_type": "code",
      "source": [
        "RunDetails(remote_run).show()\n",
        "remote_run.wait_for_completion(show_output=False)\n"
      ],
      "outputs": [
        {
          "output_type": "display_data",
          "data": {
            "text/plain": "_AutoMLWidget(widget_settings={'childWidgetDisplay': 'popup', 'send_telemetry': False, 'log_level': 'INFO', 's…",
            "application/vnd.jupyter.widget-view+json": {
              "version_major": 2,
              "version_minor": 0,
              "model_id": "57e20c0be13a432a8402a99be011fa9a"
            }
          },
          "metadata": {}
        },
        {
          "output_type": "display_data",
          "data": {
            "application/aml.mini.widget.v1": "{\"status\": \"Completed\", \"workbench_run_details_uri\": \"https://ml.azure.com/runs/AutoML_fc1cd03b-c70e-4838-89fb-980255d11dd2?wsid=/subscriptions/ec5ba19e-6205-418f-a52d-d0943090ca16/resourcegroups/rg-wwe-ictx-dsplayground/workspaces/aml-wwe-ictx-dsplay&tid=c16e514b-893e-4a01-9a30-b8fef514a650\", \"run_id\": \"AutoML_fc1cd03b-c70e-4838-89fb-980255d11dd2\", \"run_properties\": {\"run_id\": \"AutoML_fc1cd03b-c70e-4838-89fb-980255d11dd2\", \"created_utc\": \"2021-09-08T13:59:53.209946Z\", \"properties\": {\"num_iterations\": \"1000\", \"training_type\": \"TrainFull\", \"acquisition_function\": \"EI\", \"primary_metric\": \"AUC_weighted\", \"train_split\": \"0\", \"acquisition_parameter\": \"0\", \"num_cross_validation\": \"4\", \"target\": \"alpha\", \"AMLSettingsJsonString\": \"{\\\"path\\\":null,\\\"name\\\":\\\"hyperdrive-udacity-capstone-hyperdrive\\\",\\\"subscription_id\\\":\\\"ec5ba19e-6205-418f-a52d-d0943090ca16\\\",\\\"resource_group\\\":\\\"rg-wwe-ictx-dsplayground\\\",\\\"workspace_name\\\":\\\"aml-wwe-ictx-dsplay\\\",\\\"region\\\":\\\"westeurope\\\",\\\"compute_target\\\":\\\"alpha\\\",\\\"spark_service\\\":null,\\\"azure_service\\\":\\\"remote\\\",\\\"many_models\\\":false,\\\"pipeline_fetch_max_batch_size\\\":1,\\\"enable_batch_run\\\":false,\\\"enable_run_restructure\\\":false,\\\"start_auxiliary_runs_before_parent_complete\\\":false,\\\"enable_code_generation\\\":false,\\\"iterations\\\":1000,\\\"primary_metric\\\":\\\"AUC_weighted\\\",\\\"task_type\\\":\\\"classification\\\",\\\"data_script\\\":null,\\\"test_size\\\":0.0,\\\"validation_size\\\":0.0,\\\"n_cross_validations\\\":4,\\\"y_min\\\":null,\\\"y_max\\\":null,\\\"num_classes\\\":null,\\\"featurization\\\":\\\"auto\\\",\\\"_ignore_package_version_incompatibilities\\\":false,\\\"is_timeseries\\\":false,\\\"max_cores_per_iteration\\\":1,\\\"max_concurrent_iterations\\\":4,\\\"iteration_timeout_minutes\\\":null,\\\"mem_in_mb\\\":null,\\\"enforce_time_on_windows\\\":false,\\\"experiment_timeout_minutes\\\":20,\\\"experiment_exit_score\\\":null,\\\"whitelist_models\\\":null,\\\"blacklist_algos\\\":[\\\"TensorFlowLinearClassifier\\\",\\\"TensorFlowDNN\\\"],\\\"supported_models\\\":[\\\"DecisionTree\\\",\\\"LinearSVM\\\",\\\"SVM\\\",\\\"RandomForest\\\",\\\"MultinomialNaiveBayes\\\",\\\"SGD\\\",\\\"TensorFlowDNN\\\",\\\"AveragedPerceptronClassifier\\\",\\\"BernoulliNaiveBayes\\\",\\\"TensorFlowLinearClassifier\\\",\\\"ExtremeRandomTrees\\\",\\\"GradientBoosting\\\",\\\"LogisticRegression\\\",\\\"KNN\\\",\\\"XGBoostClassifier\\\",\\\"LightGBM\\\"],\\\"private_models\\\":[],\\\"auto_blacklist\\\":true,\\\"blacklist_samples_reached\\\":false,\\\"exclude_nan_labels\\\":true,\\\"verbosity\\\":20,\\\"_debug_log\\\":\\\"azureml_automl.log\\\",\\\"show_warnings\\\":false,\\\"model_explainability\\\":true,\\\"service_url\\\":null,\\\"sdk_url\\\":null,\\\"sdk_packages\\\":null,\\\"enable_onnx_compatible_models\\\":false,\\\"enable_split_onnx_featurizer_estimator_models\\\":false,\\\"vm_type\\\":\\\"STANDARD_DS3_V2\\\",\\\"telemetry_verbosity\\\":20,\\\"send_telemetry\\\":true,\\\"enable_dnn\\\":false,\\\"scenario\\\":\\\"SDK-1.13.0\\\",\\\"environment_label\\\":null,\\\"save_mlflow\\\":false,\\\"force_text_dnn\\\":false,\\\"enable_feature_sweeping\\\":true,\\\"enable_early_stopping\\\":true,\\\"early_stopping_n_iters\\\":10,\\\"metrics\\\":null,\\\"enable_metric_confidence\\\":false,\\\"enable_ensembling\\\":true,\\\"enable_stack_ensembling\\\":true,\\\"ensemble_iterations\\\":15,\\\"enable_tf\\\":false,\\\"enable_subsampling\\\":null,\\\"subsample_seed\\\":null,\\\"enable_nimbusml\\\":false,\\\"enable_streaming\\\":false,\\\"force_streaming\\\":false,\\\"track_child_runs\\\":true,\\\"allowed_private_models\\\":[],\\\"label_column_name\\\":\\\"target\\\",\\\"weight_column_name\\\":null,\\\"cv_split_column_names\\\":null,\\\"enable_local_managed\\\":false,\\\"_local_managed_run_id\\\":null,\\\"cost_mode\\\":1,\\\"lag_length\\\":0,\\\"metric_operation\\\":\\\"maximize\\\",\\\"preprocess\\\":true}\", \"DataPrepJsonString\": \"{\\\\\\\"training_data\\\\\\\": {\\\\\\\"datasetId\\\\\\\": \\\\\\\"32b7b28e-beb0-4a55-bd3e-9e650f468482\\\\\\\"}, \\\\\\\"datasets\\\\\\\": 0}\", \"EnableSubsampling\": null, \"runTemplate\": \"AutoML\", \"azureml.runsource\": \"automl\", \"display_task_type\": \"classification\", \"dependencies_versions\": \"{\\\"azureml-widgets\\\": \\\"1.28.0\\\", \\\"azureml-train\\\": \\\"1.28.0\\\", \\\"azureml-train-restclients-hyperdrive\\\": \\\"1.28.0\\\", \\\"azureml-train-core\\\": \\\"1.28.0\\\", \\\"azureml-train-automl-client\\\": \\\"1.28.0\\\", \\\"azureml-tensorboard\\\": \\\"1.28.0\\\", \\\"azureml-telemetry\\\": \\\"1.28.0\\\", \\\"azureml-sdk\\\": \\\"1.28.0\\\", \\\"azureml-pipeline\\\": \\\"1.28.0\\\", \\\"azureml-pipeline-steps\\\": \\\"1.28.0\\\", \\\"azureml-pipeline-core\\\": \\\"1.28.0\\\", \\\"azureml-opendatasets\\\": \\\"1.28.0\\\", \\\"azureml-model-management-sdk\\\": \\\"1.0.1b6.post1\\\", \\\"azureml-mlflow\\\": \\\"1.28.0\\\", \\\"azureml-interpret\\\": \\\"1.28.0\\\", \\\"azureml-inference-server-http\\\": \\\"0.3.1\\\", \\\"azureml-explain-model\\\": \\\"1.28.0\\\", \\\"azureml-defaults\\\": \\\"1.28.0\\\", \\\"azureml-dataset-runtime\\\": \\\"1.28.0\\\", \\\"azureml-dataprep\\\": \\\"2.15.0\\\", \\\"azureml-dataprep-rslex\\\": \\\"1.13.0\\\", \\\"azureml-dataprep-native\\\": \\\"33.0.0\\\", \\\"azureml-datadrift\\\": \\\"1.28.0\\\", \\\"azureml-core\\\": \\\"1.28.0\\\", \\\"azureml-contrib-services\\\": \\\"1.28.0\\\", \\\"azureml-contrib-server\\\": \\\"1.28.0\\\", \\\"azureml-contrib-reinforcementlearning\\\": \\\"1.28.0\\\", \\\"azureml-contrib-pipeline-steps\\\": \\\"1.28.0\\\", \\\"azureml-contrib-notebook\\\": \\\"1.28.0\\\", \\\"azureml-contrib-gbdt\\\": \\\"1.28.0\\\", \\\"azureml-contrib-fairness\\\": \\\"1.28.0\\\", \\\"azureml-contrib-dataset\\\": \\\"1.28.0\\\", \\\"azureml-cli-common\\\": \\\"1.28.0\\\", \\\"azureml-automl-core\\\": \\\"1.28.0\\\", \\\"azureml-accel-models\\\": \\\"1.28.0\\\"}\", \"_aml_system_scenario_identification\": \"Remote.Parent\", \"ClientType\": \"SDK\", \"environment_cpu_name\": \"AzureML-AutoML\", \"environment_cpu_label\": \"prod\", \"environment_gpu_name\": \"AzureML-AutoML-GPU\", \"environment_gpu_label\": \"prod\", \"root_attribution\": \"automl\", \"attribution\": \"AutoML\", \"Orchestrator\": \"AutoML\", \"CancelUri\": \"https://westeurope.api.azureml.ms/jasmine/v1.0/subscriptions/ec5ba19e-6205-418f-a52d-d0943090ca16/resourceGroups/rg-wwe-ictx-dsplayground/providers/Microsoft.MachineLearningServices/workspaces/aml-wwe-ictx-dsplay/experimentids/7bf841a5-e9c7-4a93-b762-a57964f91f6c/cancel/AutoML_fc1cd03b-c70e-4838-89fb-980255d11dd2\", \"azureml.git.repository_uri\": \"https://github.com/llancia/AzureCapstoneProject.git\", \"mlflow.source.git.repoURL\": \"https://github.com/llancia/AzureCapstoneProject.git\", \"azureml.git.branch\": \"main\", \"mlflow.source.git.branch\": \"main\", \"azureml.git.commit\": \"084f0337bb318970b3e2f95dc38e3a18d5365d46\", \"mlflow.source.git.commit\": \"084f0337bb318970b3e2f95dc38e3a18d5365d46\", \"azureml.git.dirty\": \"True\", \"ClientSdkVersion\": \"1.33.1.post1\", \"snapshotId\": \"00000000-0000-0000-0000-000000000000\", \"SetupRunId\": \"AutoML_fc1cd03b-c70e-4838-89fb-980255d11dd2_setup\", \"SetupRunContainerId\": \"dcid.AutoML_fc1cd03b-c70e-4838-89fb-980255d11dd2_setup\", \"FeaturizationRunJsonPath\": \"featurizer_container.json\", \"FeaturizationRunId\": \"AutoML_fc1cd03b-c70e-4838-89fb-980255d11dd2_featurize\", \"ProblemInfoJsonString\": \"{\\\"dataset_num_categorical\\\": 0, \\\"is_sparse\\\": true, \\\"subsampling\\\": false, \\\"has_extra_col\\\": true, \\\"dataset_classes\\\": 2, \\\"dataset_features\\\": 411, \\\"dataset_samples\\\": 15326, \\\"single_frequency_class_detected\\\": false}\", \"ModelExplainRunId\": \"AutoML_fc1cd03b-c70e-4838-89fb-980255d11dd2_ModelExplain\"}, \"tags\": {\"model_explain_run\": \"best_run\", \"_aml_system_azureml.automlComponent\": \"AutoML\", \"pipeline_id\": \"\", \"score\": \"\", \"predicted_cost\": \"\", \"fit_time\": \"\", \"training_percent\": \"\", \"iteration\": \"\", \"run_preprocessor\": \"\", \"run_algorithm\": \"\", \"dynamic_whitelisting_iterations\": \"<25>;<30>;\", \"automl_best_child_run_id\": \"AutoML_fc1cd03b-c70e-4838-89fb-980255d11dd2_33\", \"model_explain_best_run_child_id\": \"AutoML_fc1cd03b-c70e-4838-89fb-980255d11dd2_33\"}, \"end_time_utc\": \"2021-09-08T14:29:06.543148Z\", \"status\": \"Completed\", \"log_files\": {}, \"log_groups\": [], \"run_duration\": \"0:29:13\", \"run_number\": \"40\", \"run_queued_details\": {\"status\": \"Completed\", \"details\": null}}, \"child_runs\": [{\"run_id\": \"AutoML_fc1cd03b-c70e-4838-89fb-980255d11dd2_0\", \"run_number\": 46, \"metric\": null, \"status\": \"Completed\", \"run_type\": \"azureml.scriptrun\", \"training_percent\": \"100\", \"start_time\": \"2021-09-08T14:05:30.612883Z\", \"end_time\": \"2021-09-08T14:07:18.410864Z\", \"created_time\": \"2021-09-08T14:05:15.876633Z\", \"created_time_dt\": \"2021-09-08T14:05:15.876633Z\", \"duration\": \"0:02:02\", \"iteration\": \"0\", \"goal\": \"AUC_weighted_max\", \"run_name\": \"MaxAbsScaler, LightGBM\", \"run_properties\": \"copy=True\", \"primary_metric\": 0.79583292, \"best_metric\": 0.79583292}, {\"run_id\": \"AutoML_fc1cd03b-c70e-4838-89fb-980255d11dd2_2\", \"run_number\": 47, \"metric\": null, \"status\": \"Completed\", \"run_type\": \"azureml.scriptrun\", \"training_percent\": \"100\", \"start_time\": \"2021-09-08T14:05:31.849247Z\", \"end_time\": \"2021-09-08T14:07:18.425402Z\", \"created_time\": \"2021-09-08T14:05:15.945716Z\", \"created_time_dt\": \"2021-09-08T14:05:15.945716Z\", \"duration\": \"0:02:02\", \"iteration\": \"2\", \"goal\": \"AUC_weighted_max\", \"run_name\": \"MaxAbsScaler, ExtremeRandomTrees\", \"run_properties\": \"copy=True\", \"primary_metric\": 0.77894792, \"best_metric\": 0.79583292}, {\"run_id\": \"AutoML_fc1cd03b-c70e-4838-89fb-980255d11dd2_3\", \"run_number\": 48, \"metric\": null, \"status\": \"Completed\", \"run_type\": \"azureml.scriptrun\", \"training_percent\": \"100\", \"start_time\": \"2021-09-08T14:05:30.671241Z\", \"end_time\": \"2021-09-08T14:07:18.699845Z\", \"created_time\": \"2021-09-08T14:05:15.958073Z\", \"created_time_dt\": \"2021-09-08T14:05:15.958073Z\", \"duration\": \"0:02:02\", \"iteration\": \"3\", \"goal\": \"AUC_weighted_max\", \"run_name\": \"MaxAbsScaler, RandomForest\", \"run_properties\": \"copy=True\", \"primary_metric\": 0.75810223, \"best_metric\": 0.79583292}, {\"run_id\": \"AutoML_fc1cd03b-c70e-4838-89fb-980255d11dd2_1\", \"run_number\": 49, \"metric\": null, \"status\": \"Completed\", \"run_type\": \"azureml.scriptrun\", \"training_percent\": \"100\", \"start_time\": \"2021-09-08T14:07:14.708457Z\", \"end_time\": \"2021-09-08T14:09:18.815007Z\", \"created_time\": \"2021-09-08T14:05:15.984543Z\", \"created_time_dt\": \"2021-09-08T14:05:15.984543Z\", \"duration\": \"0:04:02\", \"iteration\": \"1\", \"goal\": \"AUC_weighted_max\", \"run_name\": \"MaxAbsScaler, XGBoostClassifier\", \"run_properties\": \"copy=True\", \"primary_metric\": 0.79505615, \"best_metric\": 0.79583292}, {\"run_id\": \"AutoML_fc1cd03b-c70e-4838-89fb-980255d11dd2_6\", \"run_number\": 50, \"metric\": null, \"status\": \"Completed\", \"run_type\": \"azureml.scriptrun\", \"training_percent\": \"100\", \"start_time\": \"2021-09-08T14:08:57.534593Z\", \"end_time\": \"2021-09-08T14:11:24.227336Z\", \"created_time\": \"2021-09-08T14:07:21.408872Z\", \"created_time_dt\": \"2021-09-08T14:07:21.408872Z\", \"duration\": \"0:04:02\", \"iteration\": \"6\", \"goal\": \"AUC_weighted_max\", \"run_name\": \"SparseNormalizer, RandomForest\", \"run_properties\": \"copy=True, norm='l2'\", \"primary_metric\": 0.77793794, \"best_metric\": 0.79583292}, {\"run_id\": \"AutoML_fc1cd03b-c70e-4838-89fb-980255d11dd2_5\", \"run_number\": 51, \"metric\": null, \"status\": \"Completed\", \"run_type\": \"azureml.scriptrun\", \"training_percent\": \"100\", \"start_time\": \"2021-09-08T14:07:30.020979Z\", \"end_time\": \"2021-09-08T14:09:24.194882Z\", \"created_time\": \"2021-09-08T14:07:21.413208Z\", \"created_time_dt\": \"2021-09-08T14:07:21.413208Z\", \"duration\": \"0:02:02\", \"iteration\": \"5\", \"goal\": \"AUC_weighted_max\", \"run_name\": \"SparseNormalizer, XGBoostClassifier\", \"run_properties\": \"copy=True, norm='max'\", \"primary_metric\": 0.79164962, \"best_metric\": 0.79583292}, {\"run_id\": \"AutoML_fc1cd03b-c70e-4838-89fb-980255d11dd2_4\", \"run_number\": 52, \"metric\": null, \"status\": \"Completed\", \"run_type\": \"azureml.scriptrun\", \"training_percent\": \"100\", \"start_time\": \"2021-09-08T14:09:21.868179Z\", \"end_time\": \"2021-09-08T14:11:25.093036Z\", \"created_time\": \"2021-09-08T14:07:21.452511Z\", \"created_time_dt\": \"2021-09-08T14:07:21.452511Z\", \"duration\": \"0:04:03\", \"iteration\": \"4\", \"goal\": \"AUC_weighted_max\", \"run_name\": \"StandardScalerWrapper, LightGBM\", \"run_properties\": \"\\n    copy=True,\\n    with_mean=False,\\n    with_std=True\\n\", \"primary_metric\": 0.77692079, \"best_metric\": 0.79583292}, {\"run_id\": \"AutoML_fc1cd03b-c70e-4838-89fb-980255d11dd2_7\", \"run_number\": 53, \"metric\": null, \"status\": \"Completed\", \"run_type\": \"azureml.scriptrun\", \"training_percent\": \"100\", \"start_time\": \"2021-09-08T14:10:43.680332Z\", \"end_time\": \"2021-09-08T14:12:24.087177Z\", \"created_time\": \"2021-09-08T14:09:21.612116Z\", \"created_time_dt\": \"2021-09-08T14:09:21.612116Z\", \"duration\": \"0:03:02\", \"iteration\": \"7\", \"goal\": \"AUC_weighted_max\", \"run_name\": \"StandardScalerWrapper, XGBoostClassifier\", \"run_properties\": \"\\n    copy=True,\\n    with_mean=False,\\n    with_std=False\\n\", \"primary_metric\": 0.7956441, \"best_metric\": 0.79583292}, {\"run_id\": \"AutoML_fc1cd03b-c70e-4838-89fb-980255d11dd2_8\", \"run_number\": 54, \"metric\": null, \"status\": \"Completed\", \"run_type\": \"azureml.scriptrun\", \"training_percent\": \"100\", \"start_time\": \"2021-09-08T14:11:03.972347Z\", \"end_time\": \"2021-09-08T14:12:31.806106Z\", \"created_time\": \"2021-09-08T14:09:27.032889Z\", \"created_time_dt\": \"2021-09-08T14:09:27.032889Z\", \"duration\": \"0:03:04\", \"iteration\": \"8\", \"goal\": \"AUC_weighted_max\", \"run_name\": \"SparseNormalizer, XGBoostClassifier\", \"run_properties\": \"copy=True, norm='max'\", \"primary_metric\": 0.79695365, \"best_metric\": 0.79695365}, {\"run_id\": \"AutoML_fc1cd03b-c70e-4838-89fb-980255d11dd2_9\", \"run_number\": 55, \"metric\": null, \"status\": \"Completed\", \"run_type\": \"azureml.scriptrun\", \"training_percent\": \"100\", \"start_time\": \"2021-09-08T14:11:35.736289Z\", \"end_time\": \"2021-09-08T14:13:30.116191Z\", \"created_time\": \"2021-09-08T14:11:27.217031Z\", \"created_time_dt\": \"2021-09-08T14:11:27.217031Z\", \"duration\": \"0:02:02\", \"iteration\": \"9\", \"goal\": \"AUC_weighted_max\", \"run_name\": \"MaxAbsScaler, RandomForest\", \"run_properties\": \"copy=True\", \"primary_metric\": 0.69076097, \"best_metric\": 0.79695365}, {\"run_id\": \"AutoML_fc1cd03b-c70e-4838-89fb-980255d11dd2_10\", \"run_number\": 56, \"metric\": null, \"status\": \"Completed\", \"run_type\": \"azureml.scriptrun\", \"training_percent\": \"100\", \"start_time\": \"2021-09-08T14:12:29.865869Z\", \"end_time\": \"2021-09-08T14:14:36.430062Z\", \"created_time\": \"2021-09-08T14:11:32.258759Z\", \"created_time_dt\": \"2021-09-08T14:11:32.258759Z\", \"duration\": \"0:03:04\", \"iteration\": \"10\", \"goal\": \"AUC_weighted_max\", \"run_name\": \"SparseNormalizer, LightGBM\", \"run_properties\": \"copy=True, norm='l1'\", \"primary_metric\": 0.77847572, \"best_metric\": 0.79695365}, {\"run_id\": \"AutoML_fc1cd03b-c70e-4838-89fb-980255d11dd2_11\", \"run_number\": 57, \"metric\": null, \"status\": \"Completed\", \"run_type\": \"azureml.scriptrun\", \"training_percent\": \"100\", \"start_time\": \"2021-09-08T14:12:45.051467Z\", \"end_time\": \"2021-09-08T14:14:29.57055Z\", \"created_time\": \"2021-09-08T14:12:27.122565Z\", \"created_time_dt\": \"2021-09-08T14:12:27.122565Z\", \"duration\": \"0:02:02\", \"iteration\": \"11\", \"goal\": \"AUC_weighted_max\", \"run_name\": \"MaxAbsScaler, ExtremeRandomTrees\", \"run_properties\": \"copy=True\", \"primary_metric\": 0.77861344, \"best_metric\": 0.79695365}, {\"run_id\": \"AutoML_fc1cd03b-c70e-4838-89fb-980255d11dd2_12\", \"run_number\": 58, \"metric\": null, \"status\": \"Completed\", \"run_type\": \"azureml.scriptrun\", \"training_percent\": \"100\", \"start_time\": \"2021-09-08T14:13:21.594172Z\", \"end_time\": \"2021-09-08T14:15:37.889739Z\", \"created_time\": \"2021-09-08T14:12:35.411609Z\", \"created_time_dt\": \"2021-09-08T14:12:35.411609Z\", \"duration\": \"0:03:02\", \"iteration\": \"12\", \"goal\": \"AUC_weighted_max\", \"run_name\": \"StandardScalerWrapper, XGBoostClassifier\", \"run_properties\": \"\\n    copy=True,\\n    with_mean=False,\\n    with_std=False\\n\", \"primary_metric\": 0.79495973, \"best_metric\": 0.79695365}, {\"run_id\": \"AutoML_fc1cd03b-c70e-4838-89fb-980255d11dd2_13\", \"run_number\": 59, \"metric\": null, \"status\": \"Completed\", \"run_type\": \"azureml.scriptrun\", \"training_percent\": \"100\", \"start_time\": \"2021-09-08T14:14:12.951138Z\", \"end_time\": \"2021-09-08T14:15:35.867246Z\", \"created_time\": \"2021-09-08T14:13:33.317137Z\", \"created_time_dt\": \"2021-09-08T14:13:33.317137Z\", \"duration\": \"0:02:02\", \"iteration\": \"13\", \"goal\": \"AUC_weighted_max\", \"run_name\": \"StandardScalerWrapper, ExtremeRandomTrees\", \"run_properties\": \"\\n    copy=True,\\n    with_mean=False,\\n    with_std=False\\n\", \"primary_metric\": 0.78555131, \"best_metric\": 0.79695365}, {\"run_id\": \"AutoML_fc1cd03b-c70e-4838-89fb-980255d11dd2_14\", \"run_number\": 60, \"metric\": null, \"status\": \"Completed\", \"run_type\": \"azureml.scriptrun\", \"training_percent\": \"100\", \"start_time\": \"2021-09-08T14:14:41.265245Z\", \"end_time\": \"2021-09-08T14:17:34.956582Z\", \"created_time\": \"2021-09-08T14:14:32.256777Z\", \"created_time_dt\": \"2021-09-08T14:14:32.256777Z\", \"duration\": \"0:03:02\", \"iteration\": \"14\", \"goal\": \"AUC_weighted_max\", \"run_name\": \"StandardScalerWrapper, RandomForest\", \"run_properties\": \"\\n    copy=True,\\n    with_mean=False,\\n    with_std=False\\n\", \"primary_metric\": 0.79272143, \"best_metric\": 0.79695365}, {\"run_id\": \"AutoML_fc1cd03b-c70e-4838-89fb-980255d11dd2_15\", \"run_number\": 61, \"metric\": null, \"status\": \"Completed\", \"run_type\": \"azureml.scriptrun\", \"training_percent\": \"100\", \"start_time\": \"2021-09-08T14:15:05.401848Z\", \"end_time\": \"2021-09-08T14:16:42.696384Z\", \"created_time\": \"2021-09-08T14:14:39.931297Z\", \"created_time_dt\": \"2021-09-08T14:14:39.931297Z\", \"duration\": \"0:02:02\", \"iteration\": \"15\", \"goal\": \"AUC_weighted_max\", \"run_name\": \"MaxAbsScaler, LightGBM\", \"run_properties\": \"copy=True\", \"primary_metric\": 0.79656861, \"best_metric\": 0.79695365}, {\"run_id\": \"AutoML_fc1cd03b-c70e-4838-89fb-980255d11dd2_16\", \"run_number\": 62, \"metric\": null, \"status\": \"Completed\", \"run_type\": \"azureml.scriptrun\", \"training_percent\": \"100\", \"start_time\": \"2021-09-08T14:15:54.817935Z\", \"end_time\": \"2021-09-08T14:17:41.785911Z\", \"created_time\": \"2021-09-08T14:15:39.25072Z\", \"created_time_dt\": \"2021-09-08T14:15:39.25072Z\", \"duration\": \"0:02:02\", \"iteration\": \"16\", \"goal\": \"AUC_weighted_max\", \"run_name\": \"MaxAbsScaler, LogisticRegression\", \"run_properties\": \"copy=True\", \"primary_metric\": 0.78944033, \"best_metric\": 0.79695365}, {\"run_id\": \"AutoML_fc1cd03b-c70e-4838-89fb-980255d11dd2_17\", \"run_number\": 63, \"metric\": null, \"status\": \"Completed\", \"run_type\": \"azureml.scriptrun\", \"training_percent\": \"100\", \"start_time\": \"2021-09-08T14:16:47.846783Z\", \"end_time\": \"2021-09-08T14:19:45.900861Z\", \"created_time\": \"2021-09-08T14:15:43.301019Z\", \"created_time_dt\": \"2021-09-08T14:15:43.301019Z\", \"duration\": \"0:04:02\", \"iteration\": \"17\", \"goal\": \"AUC_weighted_max\", \"run_name\": \"StandardScalerWrapper, ExtremeRandomTrees\", \"run_properties\": \"\\n    copy=True,\\n    with_mean=False,\\n    with_std=True\\n\", \"primary_metric\": 0.78107141, \"best_metric\": 0.79695365}, {\"run_id\": \"AutoML_fc1cd03b-c70e-4838-89fb-980255d11dd2_18\", \"run_number\": 64, \"metric\": null, \"status\": \"Completed\", \"run_type\": \"azureml.scriptrun\", \"training_percent\": \"100\", \"start_time\": \"2021-09-08T14:17:08.66831Z\", \"end_time\": \"2021-09-08T14:18:51.641759Z\", \"created_time\": \"2021-09-08T14:16:46.806549Z\", \"created_time_dt\": \"2021-09-08T14:16:46.806549Z\", \"duration\": \"0:02:04\", \"iteration\": \"18\", \"goal\": \"AUC_weighted_max\", \"run_name\": \"StandardScalerWrapper, XGBoostClassifier\", \"run_properties\": \"\\n    copy=True,\\n    with_mean=False,\\n    with_std=False\\n\", \"primary_metric\": 0.79152295, \"best_metric\": 0.79695365}, {\"run_id\": \"AutoML_fc1cd03b-c70e-4838-89fb-980255d11dd2_19\", \"run_number\": 65, \"metric\": null, \"status\": \"Completed\", \"run_type\": \"azureml.scriptrun\", \"training_percent\": \"100\", \"start_time\": \"2021-09-08T14:17:47.978415Z\", \"end_time\": \"2021-09-08T14:19:41.347248Z\", \"created_time\": \"2021-09-08T14:17:37.94809Z\", \"created_time_dt\": \"2021-09-08T14:17:37.94809Z\", \"duration\": \"0:02:03\", \"iteration\": \"19\", \"goal\": \"AUC_weighted_max\", \"run_name\": \"MaxAbsScaler, ExtremeRandomTrees\", \"run_properties\": \"copy=True\", \"primary_metric\": 0.78545867, \"best_metric\": 0.79695365}, {\"run_id\": \"AutoML_fc1cd03b-c70e-4838-89fb-980255d11dd2_20\", \"run_number\": 66, \"metric\": null, \"status\": \"Completed\", \"run_type\": \"azureml.scriptrun\", \"training_percent\": \"100\", \"start_time\": \"2021-09-08T14:18:54.680873Z\", \"end_time\": \"2021-09-08T14:20:49.632082Z\", \"created_time\": \"2021-09-08T14:17:44.689218Z\", \"created_time_dt\": \"2021-09-08T14:17:44.689218Z\", \"duration\": \"0:03:04\", \"iteration\": \"20\", \"goal\": \"AUC_weighted_max\", \"run_name\": \"MaxAbsScaler, LogisticRegression\", \"run_properties\": \"copy=True\", \"primary_metric\": 0.78905655, \"best_metric\": 0.79695365}, {\"run_id\": \"AutoML_fc1cd03b-c70e-4838-89fb-980255d11dd2_21\", \"run_number\": 67, \"metric\": null, \"status\": \"Completed\", \"run_type\": \"azureml.scriptrun\", \"training_percent\": \"100\", \"start_time\": \"2021-09-08T14:19:06.937388Z\", \"end_time\": \"2021-09-08T14:20:57.046735Z\", \"created_time\": \"2021-09-08T14:18:54.347722Z\", \"created_time_dt\": \"2021-09-08T14:18:54.347722Z\", \"duration\": \"0:02:02\", \"iteration\": \"21\", \"goal\": \"AUC_weighted_max\", \"run_name\": \"StandardScalerWrapper, XGBoostClassifier\", \"run_properties\": \"\\n    copy=True,\\n    with_mean=False,\\n    with_std=False\\n\", \"primary_metric\": 0.79653273, \"best_metric\": 0.79695365}, {\"run_id\": \"AutoML_fc1cd03b-c70e-4838-89fb-980255d11dd2_22\", \"run_number\": 68, \"metric\": null, \"status\": \"Completed\", \"run_type\": \"azureml.scriptrun\", \"training_percent\": \"100\", \"start_time\": \"2021-09-08T14:20:00.117073Z\", \"end_time\": \"2021-09-08T14:21:48.018631Z\", \"created_time\": \"2021-09-08T14:19:45.129554Z\", \"created_time_dt\": \"2021-09-08T14:19:45.129554Z\", \"duration\": \"0:02:02\", \"iteration\": \"22\", \"goal\": \"AUC_weighted_max\", \"run_name\": \"StandardScalerWrapper, XGBoostClassifier\", \"run_properties\": \"\\n    copy=True,\\n    with_mean=False,\\n    with_std=False\\n\", \"primary_metric\": 0.79830648, \"best_metric\": 0.79830648}, {\"run_id\": \"AutoML_fc1cd03b-c70e-4838-89fb-980255d11dd2_23\", \"run_number\": 69, \"metric\": null, \"status\": \"Completed\", \"run_type\": \"azureml.scriptrun\", \"training_percent\": \"100\", \"start_time\": \"2021-09-08T14:20:39.338169Z\", \"end_time\": \"2021-09-08T14:22:51.907498Z\", \"created_time\": \"2021-09-08T14:19:49.393709Z\", \"created_time_dt\": \"2021-09-08T14:19:49.393709Z\", \"duration\": \"0:03:02\", \"iteration\": \"23\", \"goal\": \"AUC_weighted_max\", \"run_name\": \"MaxAbsScaler, RandomForest\", \"run_properties\": \"copy=True\", \"primary_metric\": 0.77289565, \"best_metric\": 0.79830648}, {\"run_id\": \"AutoML_fc1cd03b-c70e-4838-89fb-980255d11dd2_24\", \"run_number\": 70, \"metric\": null, \"status\": \"Completed\", \"run_type\": \"azureml.scriptrun\", \"training_percent\": \"100\", \"start_time\": \"2021-09-08T14:21:02.479666Z\", \"end_time\": \"2021-09-08T14:22:54.934656Z\", \"created_time\": \"2021-09-08T14:20:52.380412Z\", \"created_time_dt\": \"2021-09-08T14:20:52.380412Z\", \"duration\": \"0:02:02\", \"iteration\": \"24\", \"goal\": \"AUC_weighted_max\", \"run_name\": \"SparseNormalizer, XGBoostClassifier\", \"run_properties\": \"copy=True, norm='max'\", \"primary_metric\": 0.79333993, \"best_metric\": 0.79830648}, {\"run_id\": \"AutoML_fc1cd03b-c70e-4838-89fb-980255d11dd2_25\", \"run_number\": 71, \"metric\": null, \"status\": \"Completed\", \"run_type\": \"azureml.scriptrun\", \"training_percent\": \"100\", \"start_time\": \"2021-09-08T14:21:52.140439Z\", \"end_time\": \"2021-09-08T14:24:02.473842Z\", \"created_time\": \"2021-09-08T14:20:59.961163Z\", \"created_time_dt\": \"2021-09-08T14:20:59.961163Z\", \"duration\": \"0:03:02\", \"iteration\": \"25\", \"goal\": \"AUC_weighted_max\", \"run_name\": \"TruncatedSVDWrapper, XGBoostClassifier\", \"run_properties\": \"n_components=0.01, random_state=None\", \"primary_metric\": 0.76700323, \"best_metric\": 0.79830648}, {\"run_id\": \"AutoML_fc1cd03b-c70e-4838-89fb-980255d11dd2_26\", \"run_number\": 72, \"metric\": null, \"status\": \"Completed\", \"run_type\": \"azureml.scriptrun\", \"training_percent\": \"100\", \"start_time\": \"2021-09-08T14:22:20.880773Z\", \"end_time\": \"2021-09-08T14:23:53.591751Z\", \"created_time\": \"2021-09-08T14:21:51.038763Z\", \"created_time_dt\": \"2021-09-08T14:21:51.038763Z\", \"duration\": \"0:02:02\", \"iteration\": \"26\", \"goal\": \"AUC_weighted_max\", \"run_name\": \"StandardScalerWrapper, LightGBM\", \"run_properties\": \"\\n    copy=True,\\n    with_mean=False,\\n    with_std=True\\n\", \"primary_metric\": 0.77838519, \"best_metric\": 0.79830648}, {\"run_id\": \"AutoML_fc1cd03b-c70e-4838-89fb-980255d11dd2_27\", \"run_number\": 73, \"metric\": null, \"status\": \"Completed\", \"run_type\": \"azureml.scriptrun\", \"training_percent\": \"100\", \"start_time\": \"2021-09-08T14:23:04.591471Z\", \"end_time\": \"2021-09-08T14:24:56.515818Z\", \"created_time\": \"2021-09-08T14:22:54.028874Z\", \"created_time_dt\": \"2021-09-08T14:22:54.028874Z\", \"duration\": \"0:02:02\", \"iteration\": \"27\", \"goal\": \"AUC_weighted_max\", \"run_name\": \"StandardScalerWrapper, LightGBM\", \"run_properties\": \"\\n    copy=True,\\n    with_mean=False,\\n    with_std=False\\n\", \"primary_metric\": 0.77679356, \"best_metric\": 0.79830648}, {\"run_id\": \"AutoML_fc1cd03b-c70e-4838-89fb-980255d11dd2_28\", \"run_number\": 74, \"metric\": null, \"status\": \"Completed\", \"run_type\": \"azureml.scriptrun\", \"training_percent\": \"100\", \"start_time\": \"2021-09-08T14:23:33.490043Z\", \"end_time\": \"2021-09-08T14:25:00.236206Z\", \"created_time\": \"2021-09-08T14:22:57.089268Z\", \"created_time_dt\": \"2021-09-08T14:22:57.089268Z\", \"duration\": \"0:02:03\", \"iteration\": \"28\", \"goal\": \"AUC_weighted_max\", \"run_name\": \"StandardScalerWrapper, LightGBM\", \"run_properties\": \"\\n    copy=True,\\n    with_mean=False,\\n    with_std=False\\n\", \"primary_metric\": 0.78036922, \"best_metric\": 0.79830648}, {\"run_id\": \"AutoML_fc1cd03b-c70e-4838-89fb-980255d11dd2_29\", \"run_number\": 75, \"metric\": null, \"status\": \"Completed\", \"run_type\": \"azureml.scriptrun\", \"training_percent\": \"100\", \"start_time\": \"2021-09-08T14:24:08.232234Z\", \"end_time\": \"2021-09-08T14:25:58.351201Z\", \"created_time\": \"2021-09-08T14:23:55.611262Z\", \"created_time_dt\": \"2021-09-08T14:23:55.611262Z\", \"duration\": \"0:02:02\", \"iteration\": \"29\", \"goal\": \"AUC_weighted_max\", \"run_name\": \"TruncatedSVDWrapper, XGBoostClassifier\", \"run_properties\": \"n_components=0.45526315789473687, random_state=None\", \"primary_metric\": 0.78494464, \"best_metric\": 0.79830648}, {\"run_id\": \"AutoML_fc1cd03b-c70e-4838-89fb-980255d11dd2_30\", \"run_number\": 76, \"metric\": null, \"status\": \"Canceled\", \"run_type\": \"azureml.scriptrun\", \"training_percent\": \"100\", \"start_time\": \"2021-09-08T14:24:50.549212Z\", \"end_time\": \"2021-09-08T14:25:59.85321Z\", \"created_time\": \"2021-09-08T14:24:05.215267Z\", \"created_time_dt\": \"2021-09-08T14:24:05.215267Z\", \"duration\": \"0:01:54\", \"iteration\": \"30\", \"goal\": null, \"run_name\": \"StandardScalerWrapper, XGBoostClassifier\", \"run_properties\": null}, {\"run_id\": \"AutoML_fc1cd03b-c70e-4838-89fb-980255d11dd2_31\", \"run_number\": 77, \"metric\": null, \"status\": \"Canceled\", \"run_type\": \"azureml.scriptrun\", \"training_percent\": \"100\", \"start_time\": \"2021-09-08T14:25:15.242181Z\", \"end_time\": \"2021-09-08T14:25:59.868375Z\", \"created_time\": \"2021-09-08T14:24:58.943295Z\", \"created_time_dt\": \"2021-09-08T14:24:58.943295Z\", \"duration\": \"0:01:00\", \"iteration\": \"31\", \"goal\": null, \"run_name\": \"Canceled\", \"run_properties\": null}, {\"run_id\": \"AutoML_fc1cd03b-c70e-4838-89fb-980255d11dd2_32\", \"run_number\": 78, \"metric\": null, \"status\": \"Canceled\", \"run_type\": \"azureml.scriptrun\", \"training_percent\": \"100\", \"start_time\": \"2021-09-08T14:25:02.375315Z\", \"end_time\": \"2021-09-08T14:25:59.960221Z\", \"created_time\": \"2021-09-08T14:25:02.375315Z\", \"created_time_dt\": \"2021-09-08T14:25:02.375315Z\", \"duration\": \"0:00:57\", \"iteration\": \"32\", \"goal\": null, \"run_name\": \"Canceled\", \"run_properties\": null}, {\"run_id\": \"AutoML_fc1cd03b-c70e-4838-89fb-980255d11dd2_33\", \"run_number\": 79, \"metric\": null, \"status\": \"Completed\", \"run_type\": \"azureml.scriptrun\", \"training_percent\": \"100\", \"start_time\": \"2021-09-08T14:26:07.802445Z\", \"end_time\": \"2021-09-08T14:28:03.559325Z\", \"created_time\": \"2021-09-08T14:26:01.253953Z\", \"created_time_dt\": \"2021-09-08T14:26:01.253953Z\", \"duration\": \"0:02:02\", \"iteration\": \"33\", \"goal\": \"AUC_weighted_max\", \"run_name\": \"VotingEnsemble\", \"run_properties\": \"\\n    estimators=[('22', Pipeline(\\n        memory=None,\\n        steps=[('standardscalerwrapper', StandardScalerWrapper(\\n            copy=True,\\n            with_mean=False,\\n            with_std=False\\n        \", \"primary_metric\": 0.80290234, \"best_metric\": 0.80290234}, {\"run_id\": \"AutoML_fc1cd03b-c70e-4838-89fb-980255d11dd2_34\", \"run_number\": 80, \"metric\": null, \"status\": \"Completed\", \"run_type\": \"azureml.scriptrun\", \"training_percent\": \"100\", \"start_time\": \"2021-09-08T14:26:07.64066Z\", \"end_time\": \"2021-09-08T14:29:03.989418Z\", \"created_time\": \"2021-09-08T14:26:01.285787Z\", \"created_time_dt\": \"2021-09-08T14:26:01.285787Z\", \"duration\": \"0:03:02\", \"iteration\": \"34\", \"goal\": \"AUC_weighted_max\", \"run_name\": \"StackEnsemble\", \"run_properties\": \"\\n    base_learners=[('22', Pipeline(\\n        memory=None,\\n        steps=[('standardscalerwrapper', StandardScalerWrapper(\\n            copy=True,\\n            with_mean=False,\\n            with_std=False\\n        \", \"primary_metric\": 0.80215261, \"best_metric\": 0.80290234}], \"children_metrics\": {\"categories\": [0], \"series\": {\"accuracy\": [{\"categories\": [\"0\", \"1\", \"2\", \"3\", \"4\", \"5\", \"6\", \"7\", \"8\", \"9\", \"10\", \"11\", \"12\", \"13\", \"14\", \"15\", \"16\", \"17\", \"18\", \"19\", \"20\", \"21\", \"22\", \"23\", \"24\", \"25\", \"26\", \"27\", \"28\", \"29\", \"33\", \"34\"], \"mode\": \"markers\", \"name\": \"accuracy\", \"stepped\": false, \"type\": \"scatter\", \"data\": [0.7902254415277195, 0.7871589191896238, 0.789507664372995, 0.7506202661345828, 0.7743703131360525, 0.7900951316558849, 0.7255638507473098, 0.7794597548893789, 0.7915303113159377, 0.6569257823633048, 0.7846138406930824, 0.7302616817044123, 0.788007210570399, 0.7546657984337204, 0.7821349899920929, 0.7692810587074241, 0.7620381833128161, 0.7557094865041751, 0.7896384170122976, 0.7541436734114457, 0.7785459168937724, 0.7908124830726591, 0.7912694872180523, 0.7235418338965335, 0.7905516249157379, 0.7769807168636913, 0.7705211311796034, 0.7541435371753016, 0.7872240741255411, 0.7834401663116353, 0.7919871451661509, 0.7808942193096751]}, {\"categories\": [\"0\", \"1\", \"2\", \"3\", \"4\", \"5\", \"6\", \"7\", \"8\", \"9\", \"10\", \"11\", \"12\", \"13\", \"14\", \"15\", \"16\", \"17\", \"18\", \"19\", \"20\", \"21\", \"22\", \"23\", \"24\", \"25\", \"26\", \"27\", \"28\", \"29\", \"33\", \"34\"], \"mode\": \"lines\", \"name\": \"accuracy_max\", \"stepped\": true, \"type\": \"scatter\", \"data\": [0.7902254415277195, 0.7902254415277195, 0.7902254415277195, 0.7902254415277195, 0.7902254415277195, 0.7902254415277195, 0.7902254415277195, 0.7902254415277195, 0.7915303113159377, 0.7915303113159377, 0.7915303113159377, 0.7915303113159377, 0.7915303113159377, 0.7915303113159377, 0.7915303113159377, 0.7915303113159377, 0.7915303113159377, 0.7915303113159377, 0.7915303113159377, 0.7915303113159377, 0.7915303113159377, 0.7915303113159377, 0.7915303113159377, 0.7915303113159377, 0.7915303113159377, 0.7915303113159377, 0.7915303113159377, 0.7915303113159377, 0.7915303113159377, 0.7915303113159377, 0.7919871451661509, 0.7919871451661509]}], \"AUC_macro\": [{\"categories\": [\"0\", \"1\", \"2\", \"3\", \"4\", \"5\", \"6\", \"7\", \"8\", \"9\", \"10\", \"11\", \"12\", \"13\", \"14\", \"15\", \"16\", \"17\", \"18\", \"19\", \"20\", \"21\", \"22\", \"23\", \"24\", \"25\", \"26\", \"27\", \"28\", \"29\", \"33\", \"34\"], \"mode\": \"markers\", \"name\": \"AUC_macro\", \"stepped\": false, \"type\": \"scatter\", \"data\": [0.7958329166245044, 0.795056153127442, 0.7789479221468428, 0.7581022348001742, 0.7769207872241961, 0.791649618225322, 0.7779379373882203, 0.7956441019750631, 0.7969536451874313, 0.6907609662833398, 0.7784757168288506, 0.7786134409293155, 0.7949597029574687, 0.7855513144283601, 0.7927200583257682, 0.7965686081872694, 0.7894403258637754, 0.7810714149034858, 0.7915229502753999, 0.7854586665505726, 0.7890565483038768, 0.7965327339457577, 0.7983064646911059, 0.7728956491682177, 0.7933399293347387, 0.7670032285952955, 0.778385192778206, 0.7767935574191771, 0.780369220983425, 0.7849446359357144, 0.8029023169530902, 0.8021526056968691]}, {\"categories\": [\"0\", \"1\", \"2\", \"3\", \"4\", \"5\", \"6\", \"7\", \"8\", \"9\", \"10\", \"11\", \"12\", \"13\", \"14\", \"15\", \"16\", \"17\", \"18\", \"19\", \"20\", \"21\", \"22\", \"23\", \"24\", \"25\", \"26\", \"27\", \"28\", \"29\", \"33\", \"34\"], \"mode\": \"lines\", \"name\": \"AUC_macro_max\", \"stepped\": true, \"type\": \"scatter\", \"data\": [0.7958329166245044, 0.7958329166245044, 0.7958329166245044, 0.7958329166245044, 0.7958329166245044, 0.7958329166245044, 0.7958329166245044, 0.7958329166245044, 0.7969536451874313, 0.7969536451874313, 0.7969536451874313, 0.7969536451874313, 0.7969536451874313, 0.7969536451874313, 0.7969536451874313, 0.7969536451874313, 0.7969536451874313, 0.7969536451874313, 0.7969536451874313, 0.7969536451874313, 0.7969536451874313, 0.7969536451874313, 0.7983064646911059, 0.7983064646911059, 0.7983064646911059, 0.7983064646911059, 0.7983064646911059, 0.7983064646911059, 0.7983064646911059, 0.7983064646911059, 0.8029023169530902, 0.8029023169530902]}], \"AUC_weighted\": [{\"categories\": [\"0\", \"1\", \"2\", \"3\", \"4\", \"5\", \"6\", \"7\", \"8\", \"9\", \"10\", \"11\", \"12\", \"13\", \"14\", \"15\", \"16\", \"17\", \"18\", \"19\", \"20\", \"21\", \"22\", \"23\", \"24\", \"25\", \"26\", \"27\", \"28\", \"29\", \"33\", \"34\"], \"mode\": \"markers\", \"name\": \"AUC_weighted\", \"stepped\": false, \"type\": \"scatter\", \"data\": [0.7958329166245042, 0.7950561531274419, 0.7789479221468428, 0.7581022348001742, 0.7769207872241961, 0.791649618225322, 0.7779379373882203, 0.795644101975063, 0.7969536451874313, 0.6907609662833398, 0.7784757168288506, 0.7786134409293155, 0.7949597260984753, 0.7855513144283599, 0.7927214294137488, 0.7965686081872694, 0.7894403258637754, 0.7810714149034856, 0.7915229502753999, 0.7854586665505726, 0.7890565483038768, 0.7965327339457579, 0.7983064767066346, 0.7728956491682177, 0.7933399293347388, 0.7670032285952955, 0.778385192778206, 0.7767935574191771, 0.780369220983425, 0.7849446359357144, 0.8029023400940969, 0.802152605696869]}, {\"categories\": [\"0\", \"1\", \"2\", \"3\", \"4\", \"5\", \"6\", \"7\", \"8\", \"9\", \"10\", \"11\", \"12\", \"13\", \"14\", \"15\", \"16\", \"17\", \"18\", \"19\", \"20\", \"21\", \"22\", \"23\", \"24\", \"25\", \"26\", \"27\", \"28\", \"29\", \"33\", \"34\"], \"mode\": \"lines\", \"name\": \"AUC_weighted_max\", \"stepped\": true, \"type\": \"scatter\", \"data\": [0.7958329166245042, 0.7958329166245042, 0.7958329166245042, 0.7958329166245042, 0.7958329166245042, 0.7958329166245042, 0.7958329166245042, 0.7958329166245042, 0.7969536451874313, 0.7969536451874313, 0.7969536451874313, 0.7969536451874313, 0.7969536451874313, 0.7969536451874313, 0.7969536451874313, 0.7969536451874313, 0.7969536451874313, 0.7969536451874313, 0.7969536451874313, 0.7969536451874313, 0.7969536451874313, 0.7969536451874313, 0.7983064767066346, 0.7983064767066346, 0.7983064767066346, 0.7983064767066346, 0.7983064767066346, 0.7983064767066346, 0.7983064767066346, 0.7983064767066346, 0.8029023400940969, 0.8029023400940969]}], \"log_loss\": [{\"categories\": [\"0\", \"1\", \"2\", \"3\", \"4\", \"5\", \"6\", \"7\", \"8\", \"9\", \"10\", \"11\", \"12\", \"13\", \"14\", \"15\", \"16\", \"17\", \"18\", \"19\", \"20\", \"21\", \"22\", \"23\", \"24\", \"25\", \"26\", \"27\", \"28\", \"29\", \"33\", \"34\"], \"mode\": \"markers\", \"name\": \"log_loss\", \"stepped\": false, \"type\": \"scatter\", \"data\": [0.44560147647547627, 0.4450299499650187, 0.4588457434414832, 0.5243173402392727, 0.4657398975110394, 0.4922835753315705, 0.5956770294719667, 0.4973980508480037, 0.4894984944197359, 0.6805471999184974, 0.4622913476497182, 0.6380008232901317, 0.4478273679874096, 0.4784869924521764, 0.4890928749627814, 0.45533085890634484, 0.5567695248203198, 0.5560290360575517, 0.48946570214238316, 0.4770416221937493, 0.46375146276885904, 0.48889156168879144, 0.4408095725378373, 0.5771046346665566, 0.49286303506905427, 0.47180740739164645, 0.4670148694221958, 0.48268194915058044, 0.45717166395276077, 0.49896037020855366, 0.4578270184597667, 0.45365674974754977]}, {\"categories\": [\"0\", \"1\", \"2\", \"3\", \"4\", \"5\", \"6\", \"7\", \"8\", \"9\", \"10\", \"11\", \"12\", \"13\", \"14\", \"15\", \"16\", \"17\", \"18\", \"19\", \"20\", \"21\", \"22\", \"23\", \"24\", \"25\", \"26\", \"27\", \"28\", \"29\", \"33\", \"34\"], \"mode\": \"lines\", \"name\": \"log_loss_min\", \"stepped\": true, \"type\": \"scatter\", \"data\": [0.44560147647547627, 0.4450299499650187, 0.4450299499650187, 0.4450299499650187, 0.4450299499650187, 0.4450299499650187, 0.4450299499650187, 0.4450299499650187, 0.4450299499650187, 0.4450299499650187, 0.4450299499650187, 0.4450299499650187, 0.4450299499650187, 0.4450299499650187, 0.4450299499650187, 0.4450299499650187, 0.4450299499650187, 0.4450299499650187, 0.4450299499650187, 0.4450299499650187, 0.4450299499650187, 0.4450299499650187, 0.4408095725378373, 0.4408095725378373, 0.4408095725378373, 0.4408095725378373, 0.4408095725378373, 0.4408095725378373, 0.4408095725378373, 0.4408095725378373, 0.4408095725378373, 0.4408095725378373]}], \"f1_score_macro\": [{\"categories\": [\"0\", \"1\", \"2\", \"3\", \"4\", \"5\", \"6\", \"7\", \"8\", \"9\", \"10\", \"11\", \"12\", \"13\", \"14\", \"15\", \"16\", \"17\", \"18\", \"19\", \"20\", \"21\", \"22\", \"23\", \"24\", \"25\", \"26\", \"27\", \"28\", \"29\", \"33\", \"34\"], \"mode\": \"markers\", \"name\": \"f1_score_macro\", \"stepped\": false, \"type\": \"scatter\", \"data\": [0.7115393946117182, 0.693026922278945, 0.7038272868154453, 0.42877102785174576, 0.6251869778857282, 0.7067470016069503, 0.685011387798985, 0.6689077194003242, 0.7122376218953723, 0.6081494032093243, 0.6770984921346879, 0.6902733850188338, 0.7024730223247528, 0.47821364879775363, 0.6843872820978016, 0.5866045082446455, 0.7191082052641256, 0.7075497376472961, 0.7125649931788588, 0.45876580230230735, 0.6606894961652632, 0.7119644564985159, 0.7089876788976363, 0.6820226969887822, 0.7116692024546329, 0.6493560987710181, 0.601049669958422, 0.46119519025792394, 0.6961884079095083, 0.6751448578596209, 0.7137734998771302, 0.6297531235940301]}, {\"categories\": [\"0\", \"1\", \"2\", \"3\", \"4\", \"5\", \"6\", \"7\", \"8\", \"9\", \"10\", \"11\", \"12\", \"13\", \"14\", \"15\", \"16\", \"17\", \"18\", \"19\", \"20\", \"21\", \"22\", \"23\", \"24\", \"25\", \"26\", \"27\", \"28\", \"29\", \"33\", \"34\"], \"mode\": \"lines\", \"name\": \"f1_score_macro_max\", \"stepped\": true, \"type\": \"scatter\", \"data\": [0.7115393946117182, 0.7115393946117182, 0.7115393946117182, 0.7115393946117182, 0.7115393946117182, 0.7115393946117182, 0.7115393946117182, 0.7115393946117182, 0.7122376218953723, 0.7122376218953723, 0.7122376218953723, 0.7122376218953723, 0.7122376218953723, 0.7122376218953723, 0.7122376218953723, 0.7122376218953723, 0.7191082052641256, 0.7191082052641256, 0.7191082052641256, 0.7191082052641256, 0.7191082052641256, 0.7191082052641256, 0.7191082052641256, 0.7191082052641256, 0.7191082052641256, 0.7191082052641256, 0.7191082052641256, 0.7191082052641256, 0.7191082052641256, 0.7191082052641256, 0.7191082052641256, 0.7191082052641256]}], \"balanced_accuracy\": [{\"categories\": [\"0\", \"1\", \"2\", \"3\", \"4\", \"5\", \"6\", \"7\", \"8\", \"9\", \"10\", \"11\", \"12\", \"13\", \"14\", \"15\", \"16\", \"17\", \"18\", \"19\", \"20\", \"21\", \"22\", \"23\", \"24\", \"25\", \"26\", \"27\", \"28\", \"29\", \"33\", \"34\"], \"mode\": \"markers\", \"name\": \"balanced_accuracy\", \"stepped\": false, \"type\": \"scatter\", \"data\": [0.7058674265826317, 0.6806721435044057, 0.6944876066693589, 0.5, 0.6123156766769225, 0.6983915780751875, 0.7288775268927559, 0.6546895273939932, 0.7058709530944334, 0.6415693698612033, 0.6617049682551315, 0.7348463102169294, 0.6935597684107465, 0.5214642766501334, 0.672033989252283, 0.5825295158167538, 0.756083705838784, 0.7374835800392969, 0.7080187803923299, 0.5127201351905155, 0.6452829904523518, 0.7060153648002958, 0.7008554330270229, 0.7246123896993464, 0.7058762325465123, 0.6338761512409676, 0.593001384057572, 0.513581221397742, 0.6849846214565485, 0.6603380190749586, 0.7078575936331652, 0.6384386114214718]}, {\"categories\": [\"0\", \"1\", \"2\", \"3\", \"4\", \"5\", \"6\", \"7\", \"8\", \"9\", \"10\", \"11\", \"12\", \"13\", \"14\", \"15\", \"16\", \"17\", \"18\", \"19\", \"20\", \"21\", \"22\", \"23\", \"24\", \"25\", \"26\", \"27\", \"28\", \"29\", \"33\", \"34\"], \"mode\": \"lines\", \"name\": \"balanced_accuracy_max\", \"stepped\": true, \"type\": \"scatter\", \"data\": [0.7058674265826317, 0.7058674265826317, 0.7058674265826317, 0.7058674265826317, 0.7058674265826317, 0.7058674265826317, 0.7288775268927559, 0.7288775268927559, 0.7288775268927559, 0.7288775268927559, 0.7288775268927559, 0.7348463102169294, 0.7348463102169294, 0.7348463102169294, 0.7348463102169294, 0.7348463102169294, 0.756083705838784, 0.756083705838784, 0.756083705838784, 0.756083705838784, 0.756083705838784, 0.756083705838784, 0.756083705838784, 0.756083705838784, 0.756083705838784, 0.756083705838784, 0.756083705838784, 0.756083705838784, 0.756083705838784, 0.756083705838784, 0.756083705838784, 0.756083705838784]}], \"average_precision_score_weighted\": [{\"categories\": [\"0\", \"1\", \"2\", \"3\", \"4\", \"5\", \"6\", \"7\", \"8\", \"9\", \"10\", \"11\", \"12\", \"13\", \"14\", \"15\", \"16\", \"17\", \"18\", \"19\", \"20\", \"21\", \"22\", \"23\", \"24\", \"25\", \"26\", \"27\", \"28\", \"29\", \"33\", \"34\"], \"mode\": \"markers\", \"name\": \"average_precision_score_weighted\", \"stepped\": false, \"type\": \"scatter\", \"data\": [0.810339039219638, 0.8119062822021134, 0.8021811742396311, 0.7872865292441256, 0.8014210700950355, 0.8083147157109207, 0.8013752299242949, 0.8111584424151975, 0.8124402672253634, 0.7452852856751615, 0.802586238122491, 0.801399814975805, 0.8114380258426767, 0.807286945349323, 0.8080541281870556, 0.8128070228051589, 0.8049242221417514, 0.8009124352534163, 0.8046229529964415, 0.8073920796226545, 0.8051442351400439, 0.8102868368562126, 0.8142820168708975, 0.7972958032589651, 0.8077308343595261, 0.7935916019249873, 0.8019730143466148, 0.8011080025770425, 0.8029034332839384, 0.8028391291811439, 0.8164051864145325, 0.8160647368245555]}, {\"categories\": [\"0\", \"1\", \"2\", \"3\", \"4\", \"5\", \"6\", \"7\", \"8\", \"9\", \"10\", \"11\", \"12\", \"13\", \"14\", \"15\", \"16\", \"17\", \"18\", \"19\", \"20\", \"21\", \"22\", \"23\", \"24\", \"25\", \"26\", \"27\", \"28\", \"29\", \"33\", \"34\"], \"mode\": \"lines\", \"name\": \"average_precision_score_weighted_max\", \"stepped\": true, \"type\": \"scatter\", \"data\": [0.810339039219638, 0.8119062822021134, 0.8119062822021134, 0.8119062822021134, 0.8119062822021134, 0.8119062822021134, 0.8119062822021134, 0.8119062822021134, 0.8124402672253634, 0.8124402672253634, 0.8124402672253634, 0.8124402672253634, 0.8124402672253634, 0.8124402672253634, 0.8124402672253634, 0.8128070228051589, 0.8128070228051589, 0.8128070228051589, 0.8128070228051589, 0.8128070228051589, 0.8128070228051589, 0.8128070228051589, 0.8142820168708975, 0.8142820168708975, 0.8142820168708975, 0.8142820168708975, 0.8142820168708975, 0.8142820168708975, 0.8142820168708975, 0.8142820168708975, 0.8164051864145325, 0.8164051864145325]}], \"norm_macro_recall\": [{\"categories\": [\"0\", \"1\", \"2\", \"3\", \"4\", \"5\", \"6\", \"7\", \"8\", \"9\", \"10\", \"11\", \"12\", \"13\", \"14\", \"15\", \"16\", \"17\", \"18\", \"19\", \"20\", \"21\", \"22\", \"23\", \"24\", \"25\", \"26\", \"27\", \"28\", \"29\", \"33\", \"34\"], \"mode\": \"markers\", \"name\": \"norm_macro_recall\", \"stepped\": false, \"type\": \"scatter\", \"data\": [0.4117348531652632, 0.3613442870088115, 0.38897521333871793, 0.0, 0.2246313533538451, 0.3967831561503751, 0.4577550537855118, 0.30937905478798644, 0.41174190618886697, 0.2831387397224066, 0.32340993651026284, 0.4696926204338586, 0.3871195368214931, 0.04292855330026679, 0.344067978504566, 0.16505903163350777, 0.5121674116775681, 0.47496716007859374, 0.41603756078465964, 0.025440270381031083, 0.29056598090470376, 0.4120307296005916, 0.4017108660540459, 0.4492247793986928, 0.4117524650930247, 0.2677523024819354, 0.18600276811514388, 0.027162442795483965, 0.369969242913097, 0.3206760381499173, 0.4157151872663304, 0.27687722284294375]}, {\"categories\": [\"0\", \"1\", \"2\", \"3\", \"4\", \"5\", \"6\", \"7\", \"8\", \"9\", \"10\", \"11\", \"12\", \"13\", \"14\", \"15\", \"16\", \"17\", \"18\", \"19\", \"20\", \"21\", \"22\", \"23\", \"24\", \"25\", \"26\", \"27\", \"28\", \"29\", \"33\", \"34\"], \"mode\": \"lines\", \"name\": \"norm_macro_recall_max\", \"stepped\": true, \"type\": \"scatter\", \"data\": [0.4117348531652632, 0.4117348531652632, 0.4117348531652632, 0.4117348531652632, 0.4117348531652632, 0.4117348531652632, 0.4577550537855118, 0.4577550537855118, 0.4577550537855118, 0.4577550537855118, 0.4577550537855118, 0.4696926204338586, 0.4696926204338586, 0.4696926204338586, 0.4696926204338586, 0.4696926204338586, 0.5121674116775681, 0.5121674116775681, 0.5121674116775681, 0.5121674116775681, 0.5121674116775681, 0.5121674116775681, 0.5121674116775681, 0.5121674116775681, 0.5121674116775681, 0.5121674116775681, 0.5121674116775681, 0.5121674116775681, 0.5121674116775681, 0.5121674116775681, 0.5121674116775681, 0.5121674116775681]}], \"average_precision_score_macro\": [{\"categories\": [\"0\", \"1\", \"2\", \"3\", \"4\", \"5\", \"6\", \"7\", \"8\", \"9\", \"10\", \"11\", \"12\", \"13\", \"14\", \"15\", \"16\", \"17\", \"18\", \"19\", \"20\", \"21\", \"22\", \"23\", \"24\", \"25\", \"26\", \"27\", \"28\", \"29\", \"33\", \"34\"], \"mode\": \"markers\", \"name\": \"average_precision_score_macro\", \"stepped\": false, \"type\": \"scatter\", \"data\": [0.7174228087126618, 0.721816113959185, 0.708731792357516, 0.6881827765000592, 0.7077247121393218, 0.7164128320991111, 0.7069251667687598, 0.7183697553155131, 0.721387572449655, 0.6326928446593187, 0.7091935566313547, 0.7059750598006411, 0.7201854528257162, 0.7137443114382251, 0.714241976932919, 0.7223084444703811, 0.7131238243212524, 0.7078810869537732, 0.7103607705489031, 0.7154049234975032, 0.713271762309568, 0.7173361338178497, 0.7226264357189681, 0.7026259149355847, 0.7161055383444959, 0.698792994458622, 0.7094096018769429, 0.7080575615947569, 0.7103892754422889, 0.7102043498087313, 0.7251787742123551, 0.7246489814973704]}, {\"categories\": [\"0\", \"1\", \"2\", \"3\", \"4\", \"5\", \"6\", \"7\", \"8\", \"9\", \"10\", \"11\", \"12\", \"13\", \"14\", \"15\", \"16\", \"17\", \"18\", \"19\", \"20\", \"21\", \"22\", \"23\", \"24\", \"25\", \"26\", \"27\", \"28\", \"29\", \"33\", \"34\"], \"mode\": \"lines\", \"name\": \"average_precision_score_macro_max\", \"stepped\": true, \"type\": \"scatter\", \"data\": [0.7174228087126618, 0.721816113959185, 0.721816113959185, 0.721816113959185, 0.721816113959185, 0.721816113959185, 0.721816113959185, 0.721816113959185, 0.721816113959185, 0.721816113959185, 0.721816113959185, 0.721816113959185, 0.721816113959185, 0.721816113959185, 0.721816113959185, 0.7223084444703811, 0.7223084444703811, 0.7223084444703811, 0.7223084444703811, 0.7223084444703811, 0.7223084444703811, 0.7223084444703811, 0.7226264357189681, 0.7226264357189681, 0.7226264357189681, 0.7226264357189681, 0.7226264357189681, 0.7226264357189681, 0.7226264357189681, 0.7226264357189681, 0.7251787742123551, 0.7251787742123551]}], \"matthews_correlation\": [{\"categories\": [\"0\", \"1\", \"2\", \"3\", \"4\", \"5\", \"6\", \"7\", \"8\", \"9\", \"10\", \"11\", \"12\", \"13\", \"14\", \"15\", \"16\", \"17\", \"18\", \"19\", \"20\", \"21\", \"22\", \"23\", \"24\", \"25\", \"26\", \"27\", \"28\", \"29\", \"33\", \"34\"], \"mode\": \"markers\", \"name\": \"matthews_correlation\", \"stepped\": false, \"type\": \"scatter\", \"data\": [0.42415704294830586, 0.3929429987072443, 0.4110398349957199, 0.0, 0.2993111094662524, 0.41602757739450646, 0.4057220366822807, 0.3533736877317075, 0.42585272091651905, 0.25079062372729183, 0.3690800214785098, 0.4164107183384207, 0.4079723405316775, 0.10682541276981686, 0.3764177377712864, 0.2542804329978575, 0.46171126536576135, 0.4329506339240242, 0.4258440225118988, 0.10102903503331896, 0.34169280749672165, 0.4252062498969071, 0.4202381932907602, 0.3986839562736162, 0.4246300738183468, 0.32680046468653606, 0.26915946235551313, 0.10248172267992023, 0.3976737650109615, 0.36626810803539944, 0.4286459564710349, 0.3015482473766148]}, {\"categories\": [\"0\", \"1\", \"2\", \"3\", \"4\", \"5\", \"6\", \"7\", \"8\", \"9\", \"10\", \"11\", \"12\", \"13\", \"14\", \"15\", \"16\", \"17\", \"18\", \"19\", \"20\", \"21\", \"22\", \"23\", \"24\", \"25\", \"26\", \"27\", \"28\", \"29\", \"33\", \"34\"], \"mode\": \"lines\", \"name\": \"matthews_correlation_max\", \"stepped\": true, \"type\": \"scatter\", \"data\": [0.42415704294830586, 0.42415704294830586, 0.42415704294830586, 0.42415704294830586, 0.42415704294830586, 0.42415704294830586, 0.42415704294830586, 0.42415704294830586, 0.42585272091651905, 0.42585272091651905, 0.42585272091651905, 0.42585272091651905, 0.42585272091651905, 0.42585272091651905, 0.42585272091651905, 0.42585272091651905, 0.46171126536576135, 0.46171126536576135, 0.46171126536576135, 0.46171126536576135, 0.46171126536576135, 0.46171126536576135, 0.46171126536576135, 0.46171126536576135, 0.46171126536576135, 0.46171126536576135, 0.46171126536576135, 0.46171126536576135, 0.46171126536576135, 0.46171126536576135, 0.46171126536576135, 0.46171126536576135]}], \"precision_score_macro\": [{\"categories\": [\"0\", \"1\", \"2\", \"3\", \"4\", \"5\", \"6\", \"7\", \"8\", \"9\", \"10\", \"11\", \"12\", \"13\", \"14\", \"15\", \"16\", \"17\", \"18\", \"19\", \"20\", \"21\", \"22\", \"23\", \"24\", \"25\", \"26\", \"27\", \"28\", \"29\", \"33\", \"34\"], \"mode\": \"markers\", \"name\": \"precision_score_macro\", \"stepped\": false, \"type\": \"scatter\", \"data\": [0.7184888695950544, 0.7136677895878288, 0.7172135617850929, 0.3753101330672914, 0.7000370615344174, 0.7181170118764442, 0.6798056703406661, 0.702097463836904, 0.720239050818077, 0.6110765767243338, 0.7106095861292143, 0.6845895031132401, 0.7149911512070797, 0.6039193214729347, 0.7059241835023764, 0.6960877244163634, 0.7081149410757209, 0.6973595837639744, 0.7179543068132609, 0.7067332547397405, 0.700912391631009, 0.7194275889201447, 0.7198129820085098, 0.6769204938810912, 0.7189978367096438, 0.6994603917457194, 0.6950505092119736, 0.6940534477053631, 0.7137354850140527, 0.7094783048337651, 0.7209916832114792, 0.6340326402957126]}, {\"categories\": [\"0\", \"1\", \"2\", \"3\", \"4\", \"5\", \"6\", \"7\", \"8\", \"9\", \"10\", \"11\", \"12\", \"13\", \"14\", \"15\", \"16\", \"17\", \"18\", \"19\", \"20\", \"21\", \"22\", \"23\", \"24\", \"25\", \"26\", \"27\", \"28\", \"29\", \"33\", \"34\"], \"mode\": \"lines\", \"name\": \"precision_score_macro_max\", \"stepped\": true, \"type\": \"scatter\", \"data\": [0.7184888695950544, 0.7184888695950544, 0.7184888695950544, 0.7184888695950544, 0.7184888695950544, 0.7184888695950544, 0.7184888695950544, 0.7184888695950544, 0.720239050818077, 0.720239050818077, 0.720239050818077, 0.720239050818077, 0.720239050818077, 0.720239050818077, 0.720239050818077, 0.720239050818077, 0.720239050818077, 0.720239050818077, 0.720239050818077, 0.720239050818077, 0.720239050818077, 0.720239050818077, 0.720239050818077, 0.720239050818077, 0.720239050818077, 0.720239050818077, 0.720239050818077, 0.720239050818077, 0.720239050818077, 0.720239050818077, 0.7209916832114792, 0.7209916832114792]}], \"recall_score_weighted\": [{\"categories\": [\"0\", \"1\", \"2\", \"3\", \"4\", \"5\", \"6\", \"7\", \"8\", \"9\", \"10\", \"11\", \"12\", \"13\", \"14\", \"15\", \"16\", \"17\", \"18\", \"19\", \"20\", \"21\", \"22\", \"23\", \"24\", \"25\", \"26\", \"27\", \"28\", \"29\", \"33\", \"34\"], \"mode\": \"markers\", \"name\": \"recall_score_weighted\", \"stepped\": false, \"type\": \"scatter\", \"data\": [0.7902254415277195, 0.7871589191896238, 0.789507664372995, 0.7506202661345828, 0.7743703131360525, 0.7900951316558849, 0.7255638507473098, 0.7794597548893789, 0.7915303113159377, 0.6569257823633048, 0.7846138406930824, 0.7302616817044123, 0.788007210570399, 0.7546657984337204, 0.7821349899920929, 0.7692810587074241, 0.7620381833128161, 0.7557094865041751, 0.7896384170122976, 0.7541436734114457, 0.7785459168937724, 0.7908124830726591, 0.7912694872180523, 0.7235418338965335, 0.7905516249157379, 0.7769807168636913, 0.7705211311796034, 0.7541435371753016, 0.7872240741255411, 0.7834401663116353, 0.7919871451661509, 0.7808942193096751]}, {\"categories\": [\"0\", \"1\", \"2\", \"3\", \"4\", \"5\", \"6\", \"7\", \"8\", \"9\", \"10\", \"11\", \"12\", \"13\", \"14\", \"15\", \"16\", \"17\", \"18\", \"19\", \"20\", \"21\", \"22\", \"23\", \"24\", \"25\", \"26\", \"27\", \"28\", \"29\", \"33\", \"34\"], \"mode\": \"lines\", \"name\": \"recall_score_weighted_max\", \"stepped\": true, \"type\": \"scatter\", \"data\": [0.7902254415277195, 0.7902254415277195, 0.7902254415277195, 0.7902254415277195, 0.7902254415277195, 0.7902254415277195, 0.7902254415277195, 0.7902254415277195, 0.7915303113159377, 0.7915303113159377, 0.7915303113159377, 0.7915303113159377, 0.7915303113159377, 0.7915303113159377, 0.7915303113159377, 0.7915303113159377, 0.7915303113159377, 0.7915303113159377, 0.7915303113159377, 0.7915303113159377, 0.7915303113159377, 0.7915303113159377, 0.7915303113159377, 0.7915303113159377, 0.7915303113159377, 0.7915303113159377, 0.7915303113159377, 0.7915303113159377, 0.7915303113159377, 0.7915303113159377, 0.7919871451661509, 0.7919871451661509]}], \"f1_score_micro\": [{\"categories\": [\"0\", \"1\", \"2\", \"3\", \"4\", \"5\", \"6\", \"7\", \"8\", \"9\", \"10\", \"11\", \"12\", \"13\", \"14\", \"15\", \"16\", \"17\", \"18\", \"19\", \"20\", \"21\", \"22\", \"23\", \"24\", \"25\", \"26\", \"27\", \"28\", \"29\", \"33\", \"34\"], \"mode\": \"markers\", \"name\": \"f1_score_micro\", \"stepped\": false, \"type\": \"scatter\", \"data\": [0.7902254415277195, 0.7871589191896238, 0.789507664372995, 0.7506202661345828, 0.7743703131360525, 0.7900951316558849, 0.7255638507473098, 0.7794597548893789, 0.7915303113159377, 0.6569257823633048, 0.7846138406930824, 0.7302616817044123, 0.788007210570399, 0.7546657984337204, 0.7821349899920929, 0.7692810587074242, 0.7620381833128161, 0.7557094865041751, 0.7896384170122976, 0.7541436734114457, 0.7785459168937723, 0.790812483072659, 0.7912694872180523, 0.7235418338965335, 0.7905516249157379, 0.7769807168636914, 0.7705211311796033, 0.7541435371753016, 0.7872240741255411, 0.7834401663116353, 0.7919871451661509, 0.7808942193096751]}, {\"categories\": [\"0\", \"1\", \"2\", \"3\", \"4\", \"5\", \"6\", \"7\", \"8\", \"9\", \"10\", \"11\", \"12\", \"13\", \"14\", \"15\", \"16\", \"17\", \"18\", \"19\", \"20\", \"21\", \"22\", \"23\", \"24\", \"25\", \"26\", \"27\", \"28\", \"29\", \"33\", \"34\"], \"mode\": \"lines\", \"name\": \"f1_score_micro_max\", \"stepped\": true, \"type\": \"scatter\", \"data\": [0.7902254415277195, 0.7902254415277195, 0.7902254415277195, 0.7902254415277195, 0.7902254415277195, 0.7902254415277195, 0.7902254415277195, 0.7902254415277195, 0.7915303113159377, 0.7915303113159377, 0.7915303113159377, 0.7915303113159377, 0.7915303113159377, 0.7915303113159377, 0.7915303113159377, 0.7915303113159377, 0.7915303113159377, 0.7915303113159377, 0.7915303113159377, 0.7915303113159377, 0.7915303113159377, 0.7915303113159377, 0.7915303113159377, 0.7915303113159377, 0.7915303113159377, 0.7915303113159377, 0.7915303113159377, 0.7915303113159377, 0.7915303113159377, 0.7915303113159377, 0.7919871451661509, 0.7919871451661509]}], \"AUC_micro\": [{\"categories\": [\"0\", \"1\", \"2\", \"3\", \"4\", \"5\", \"6\", \"7\", \"8\", \"9\", \"10\", \"11\", \"12\", \"13\", \"14\", \"15\", \"16\", \"17\", \"18\", \"19\", \"20\", \"21\", \"22\", \"23\", \"24\", \"25\", \"26\", \"27\", \"28\", \"29\", \"33\", \"34\"], \"mode\": \"markers\", \"name\": \"AUC_micro\", \"stepped\": false, \"type\": \"scatter\", \"data\": [0.872542708499008, 0.8711223982954628, 0.8640353639767533, 0.8472741514583906, 0.859551865031714, 0.8710238329707903, 0.7818695791090609, 0.8702060875217388, 0.8733215899687561, 0.6948684026242444, 0.8627599766564924, 0.7830463589008732, 0.871912041063133, 0.8578660338632735, 0.8683460631087827, 0.8653529254964805, 0.7974903777958646, 0.7823094423806461, 0.8708888935322211, 0.8575838249168649, 0.8636672175837261, 0.8730203393760181, 0.8740361607526983, 0.777243197842856, 0.8719116141517922, 0.8561318423421608, 0.8595103450675299, 0.8543671512465976, 0.8649815433327052, 0.8655113752066157, 0.8762792962386869, 0.8723548990032326]}, {\"categories\": [\"0\", \"1\", \"2\", \"3\", \"4\", \"5\", \"6\", \"7\", \"8\", \"9\", \"10\", \"11\", \"12\", \"13\", \"14\", \"15\", \"16\", \"17\", \"18\", \"19\", \"20\", \"21\", \"22\", \"23\", \"24\", \"25\", \"26\", \"27\", \"28\", \"29\", \"33\", \"34\"], \"mode\": \"lines\", \"name\": \"AUC_micro_max\", \"stepped\": true, \"type\": \"scatter\", \"data\": [0.872542708499008, 0.872542708499008, 0.872542708499008, 0.872542708499008, 0.872542708499008, 0.872542708499008, 0.872542708499008, 0.872542708499008, 0.8733215899687561, 0.8733215899687561, 0.8733215899687561, 0.8733215899687561, 0.8733215899687561, 0.8733215899687561, 0.8733215899687561, 0.8733215899687561, 0.8733215899687561, 0.8733215899687561, 0.8733215899687561, 0.8733215899687561, 0.8733215899687561, 0.8733215899687561, 0.8740361607526983, 0.8740361607526983, 0.8740361607526983, 0.8740361607526983, 0.8740361607526983, 0.8740361607526983, 0.8740361607526983, 0.8740361607526983, 0.8762792962386869, 0.8762792962386869]}], \"weighted_accuracy\": [{\"categories\": [\"0\", \"1\", \"2\", \"3\", \"4\", \"5\", \"6\", \"7\", \"8\", \"9\", \"10\", \"11\", \"12\", \"13\", \"14\", \"15\", \"16\", \"17\", \"18\", \"19\", \"20\", \"21\", \"22\", \"23\", \"24\", \"25\", \"26\", \"27\", \"28\", \"29\", \"33\", \"34\"], \"mode\": \"markers\", \"name\": \"weighted_accuracy\", \"stepped\": false, \"type\": \"scatter\", \"data\": [0.8406506829876536, 0.8508198018762182, 0.8463208720941935, 0.9005511423541019, 0.8714064572387187, 0.8449587543223962, 0.7235621701727953, 0.8540690287094193, 0.842739213776512, 0.6659712297701155, 0.8581136777892124, 0.7274825271975921, 0.8444999286508321, 0.8942651890486055, 0.8479676930106191, 0.8809857360555313, 0.7655821597797224, 0.7665780787699136, 0.8384598868643456, 0.8985959189119948, 0.8582511908614907, 0.8415431256305499, 0.845338472745726, 0.72285695355332, 0.8411577830237238, 0.8626091973651355, 0.8767778180420976, 0.8980465867999231, 0.8483764552890032, 0.8571877667076758, 0.8422862651885344, 0.8656691002354516]}, {\"categories\": [\"0\", \"1\", \"2\", \"3\", \"4\", \"5\", \"6\", \"7\", \"8\", \"9\", \"10\", \"11\", \"12\", \"13\", \"14\", \"15\", \"16\", \"17\", \"18\", \"19\", \"20\", \"21\", \"22\", \"23\", \"24\", \"25\", \"26\", \"27\", \"28\", \"29\", \"33\", \"34\"], \"mode\": \"lines\", \"name\": \"weighted_accuracy_max\", \"stepped\": true, \"type\": \"scatter\", \"data\": [0.8406506829876536, 0.8508198018762182, 0.8508198018762182, 0.9005511423541019, 0.9005511423541019, 0.9005511423541019, 0.9005511423541019, 0.9005511423541019, 0.9005511423541019, 0.9005511423541019, 0.9005511423541019, 0.9005511423541019, 0.9005511423541019, 0.9005511423541019, 0.9005511423541019, 0.9005511423541019, 0.9005511423541019, 0.9005511423541019, 0.9005511423541019, 0.9005511423541019, 0.9005511423541019, 0.9005511423541019, 0.9005511423541019, 0.9005511423541019, 0.9005511423541019, 0.9005511423541019, 0.9005511423541019, 0.9005511423541019, 0.9005511423541019, 0.9005511423541019, 0.9005511423541019, 0.9005511423541019]}], \"f1_score_weighted\": [{\"categories\": [\"0\", \"1\", \"2\", \"3\", \"4\", \"5\", \"6\", \"7\", \"8\", \"9\", \"10\", \"11\", \"12\", \"13\", \"14\", \"15\", \"16\", \"17\", \"18\", \"19\", \"20\", \"21\", \"22\", \"23\", \"24\", \"25\", \"26\", \"27\", \"28\", \"29\", \"33\", \"34\"], \"mode\": \"markers\", \"name\": \"f1_score_weighted\", \"stepped\": false, \"type\": \"scatter\", \"data\": [0.787087849396486, 0.7782658901350783, 0.783706849177952, 0.6436984765656739, 0.743624867041969, 0.7851237076263353, 0.7416913978868827, 0.7648048677345957, 0.7879871955400949, 0.6771332363365901, 0.7705375902094428, 0.7460802822956738, 0.7824516100260921, 0.6683604659223399, 0.7724460776201916, 0.7243711266419106, 0.7741677438402605, 0.7670103153652637, 0.7871873037640467, 0.6591339926828417, 0.7609716335507687, 0.7875247913759345, 0.786576896854599, 0.7395959991137875, 0.7872965778093208, 0.7553899125024569, 0.7313141658477532, 0.6603693631661263, 0.7795783600778394, 0.7690726471278861, 0.7887998040831503, 0.7474247845944103]}, {\"categories\": [\"0\", \"1\", \"2\", \"3\", \"4\", \"5\", \"6\", \"7\", \"8\", \"9\", \"10\", \"11\", \"12\", \"13\", \"14\", \"15\", \"16\", \"17\", \"18\", \"19\", \"20\", \"21\", \"22\", \"23\", \"24\", \"25\", \"26\", \"27\", \"28\", \"29\", \"33\", \"34\"], \"mode\": \"lines\", \"name\": \"f1_score_weighted_max\", \"stepped\": true, \"type\": \"scatter\", \"data\": [0.787087849396486, 0.787087849396486, 0.787087849396486, 0.787087849396486, 0.787087849396486, 0.787087849396486, 0.787087849396486, 0.787087849396486, 0.7879871955400949, 0.7879871955400949, 0.7879871955400949, 0.7879871955400949, 0.7879871955400949, 0.7879871955400949, 0.7879871955400949, 0.7879871955400949, 0.7879871955400949, 0.7879871955400949, 0.7879871955400949, 0.7879871955400949, 0.7879871955400949, 0.7879871955400949, 0.7879871955400949, 0.7879871955400949, 0.7879871955400949, 0.7879871955400949, 0.7879871955400949, 0.7879871955400949, 0.7879871955400949, 0.7879871955400949, 0.7887998040831503, 0.7887998040831503]}], \"recall_score_macro\": [{\"categories\": [\"0\", \"1\", \"2\", \"3\", \"4\", \"5\", \"6\", \"7\", \"8\", \"9\", \"10\", \"11\", \"12\", \"13\", \"14\", \"15\", \"16\", \"17\", \"18\", \"19\", \"20\", \"21\", \"22\", \"23\", \"24\", \"25\", \"26\", \"27\", \"28\", \"29\", \"33\", \"34\"], \"mode\": \"markers\", \"name\": \"recall_score_macro\", \"stepped\": false, \"type\": \"scatter\", \"data\": [0.7058674265826317, 0.6806721435044057, 0.6944876066693589, 0.5, 0.6123156766769225, 0.6983915780751875, 0.7288775268927559, 0.6546895273939932, 0.7058709530944334, 0.6415693698612033, 0.6617049682551315, 0.7348463102169294, 0.6935597684107465, 0.5214642766501334, 0.672033989252283, 0.5825295158167538, 0.756083705838784, 0.7374835800392969, 0.7080187803923299, 0.5127201351905155, 0.6452829904523518, 0.7060153648002958, 0.7008554330270229, 0.7246123896993464, 0.7058762325465123, 0.6338761512409676, 0.593001384057572, 0.513581221397742, 0.6849846214565485, 0.6603380190749586, 0.7078575936331652, 0.6384386114214718]}, {\"categories\": [\"0\", \"1\", \"2\", \"3\", \"4\", \"5\", \"6\", \"7\", \"8\", \"9\", \"10\", \"11\", \"12\", \"13\", \"14\", \"15\", \"16\", \"17\", \"18\", \"19\", \"20\", \"21\", \"22\", \"23\", \"24\", \"25\", \"26\", \"27\", \"28\", \"29\", \"33\", \"34\"], \"mode\": \"lines\", \"name\": \"recall_score_macro_max\", \"stepped\": true, \"type\": \"scatter\", \"data\": [0.7058674265826317, 0.7058674265826317, 0.7058674265826317, 0.7058674265826317, 0.7058674265826317, 0.7058674265826317, 0.7288775268927559, 0.7288775268927559, 0.7288775268927559, 0.7288775268927559, 0.7288775268927559, 0.7348463102169294, 0.7348463102169294, 0.7348463102169294, 0.7348463102169294, 0.7348463102169294, 0.756083705838784, 0.756083705838784, 0.756083705838784, 0.756083705838784, 0.756083705838784, 0.756083705838784, 0.756083705838784, 0.756083705838784, 0.756083705838784, 0.756083705838784, 0.756083705838784, 0.756083705838784, 0.756083705838784, 0.756083705838784, 0.756083705838784, 0.756083705838784]}], \"average_precision_score_micro\": [{\"categories\": [\"0\", \"1\", \"2\", \"3\", \"4\", \"5\", \"6\", \"7\", \"8\", \"9\", \"10\", \"11\", \"12\", \"13\", \"14\", \"15\", \"16\", \"17\", \"18\", \"19\", \"20\", \"21\", \"22\", \"23\", \"24\", \"25\", \"26\", \"27\", \"28\", \"29\", \"33\", \"34\"], \"mode\": \"markers\", \"name\": \"average_precision_score_micro\", \"stepped\": false, \"type\": \"scatter\", \"data\": [0.8600944143162012, 0.858211504492579, 0.850809371139335, 0.8350110492801119, 0.8475023859485121, 0.8566095129204903, 0.7546020367738194, 0.8587170501612671, 0.8601813281627899, 0.6675184769976374, 0.8503405651727035, 0.7493312306260382, 0.859225363919043, 0.8487637906362463, 0.8551996621673879, 0.8543242436501743, 0.7599106518799421, 0.757582530902006, 0.8546220418905636, 0.8475091733259841, 0.8488604279854584, 0.8591097687321608, 0.862825160803526, 0.7402006553224196, 0.8561101038678212, 0.8419220032142908, 0.8468989466888127, 0.8428641499730116, 0.85144858040421, 0.850545903606444, 0.8649168590136949, 0.8618248363857908]}, {\"categories\": [\"0\", \"1\", \"2\", \"3\", \"4\", \"5\", \"6\", \"7\", \"8\", \"9\", \"10\", \"11\", \"12\", \"13\", \"14\", \"15\", \"16\", \"17\", \"18\", \"19\", \"20\", \"21\", \"22\", \"23\", \"24\", \"25\", \"26\", \"27\", \"28\", \"29\", \"33\", \"34\"], \"mode\": \"lines\", \"name\": \"average_precision_score_micro_max\", \"stepped\": true, \"type\": \"scatter\", \"data\": [0.8600944143162012, 0.8600944143162012, 0.8600944143162012, 0.8600944143162012, 0.8600944143162012, 0.8600944143162012, 0.8600944143162012, 0.8600944143162012, 0.8601813281627899, 0.8601813281627899, 0.8601813281627899, 0.8601813281627899, 0.8601813281627899, 0.8601813281627899, 0.8601813281627899, 0.8601813281627899, 0.8601813281627899, 0.8601813281627899, 0.8601813281627899, 0.8601813281627899, 0.8601813281627899, 0.8601813281627899, 0.862825160803526, 0.862825160803526, 0.862825160803526, 0.862825160803526, 0.862825160803526, 0.862825160803526, 0.862825160803526, 0.862825160803526, 0.8649168590136949, 0.8649168590136949]}], \"recall_score_micro\": [{\"categories\": [\"0\", \"1\", \"2\", \"3\", \"4\", \"5\", \"6\", \"7\", \"8\", \"9\", \"10\", \"11\", \"12\", \"13\", \"14\", \"15\", \"16\", \"17\", \"18\", \"19\", \"20\", \"21\", \"22\", \"23\", \"24\", \"25\", \"26\", \"27\", \"28\", \"29\", \"33\", \"34\"], \"mode\": \"markers\", \"name\": \"recall_score_micro\", \"stepped\": false, \"type\": \"scatter\", \"data\": [0.7902254415277195, 0.7871589191896238, 0.789507664372995, 0.7506202661345828, 0.7743703131360525, 0.7900951316558849, 0.7255638507473098, 0.7794597548893789, 0.7915303113159377, 0.6569257823633048, 0.7846138406930824, 0.7302616817044123, 0.788007210570399, 0.7546657984337204, 0.7821349899920929, 0.7692810587074241, 0.7620381833128161, 0.7557094865041751, 0.7896384170122976, 0.7541436734114457, 0.7785459168937724, 0.7908124830726591, 0.7912694872180523, 0.7235418338965335, 0.7905516249157379, 0.7769807168636913, 0.7705211311796034, 0.7541435371753016, 0.7872240741255411, 0.7834401663116353, 0.7919871451661509, 0.7808942193096751]}, {\"categories\": [\"0\", \"1\", \"2\", \"3\", \"4\", \"5\", \"6\", \"7\", \"8\", \"9\", \"10\", \"11\", \"12\", \"13\", \"14\", \"15\", \"16\", \"17\", \"18\", \"19\", \"20\", \"21\", \"22\", \"23\", \"24\", \"25\", \"26\", \"27\", \"28\", \"29\", \"33\", \"34\"], \"mode\": \"lines\", \"name\": \"recall_score_micro_max\", \"stepped\": true, \"type\": \"scatter\", \"data\": [0.7902254415277195, 0.7902254415277195, 0.7902254415277195, 0.7902254415277195, 0.7902254415277195, 0.7902254415277195, 0.7902254415277195, 0.7902254415277195, 0.7915303113159377, 0.7915303113159377, 0.7915303113159377, 0.7915303113159377, 0.7915303113159377, 0.7915303113159377, 0.7915303113159377, 0.7915303113159377, 0.7915303113159377, 0.7915303113159377, 0.7915303113159377, 0.7915303113159377, 0.7915303113159377, 0.7915303113159377, 0.7915303113159377, 0.7915303113159377, 0.7915303113159377, 0.7915303113159377, 0.7915303113159377, 0.7915303113159377, 0.7915303113159377, 0.7915303113159377, 0.7919871451661509, 0.7919871451661509]}], \"precision_score_micro\": [{\"categories\": [\"0\", \"1\", \"2\", \"3\", \"4\", \"5\", \"6\", \"7\", \"8\", \"9\", \"10\", \"11\", \"12\", \"13\", \"14\", \"15\", \"16\", \"17\", \"18\", \"19\", \"20\", \"21\", \"22\", \"23\", \"24\", \"25\", \"26\", \"27\", \"28\", \"29\", \"33\", \"34\"], \"mode\": \"markers\", \"name\": \"precision_score_micro\", \"stepped\": false, \"type\": \"scatter\", \"data\": [0.7902254415277195, 0.7871589191896238, 0.789507664372995, 0.7506202661345828, 0.7743703131360525, 0.7900951316558849, 0.7255638507473098, 0.7794597548893789, 0.7915303113159377, 0.6569257823633048, 0.7846138406930824, 0.7302616817044123, 0.788007210570399, 0.7546657984337204, 0.7821349899920929, 0.7692810587074241, 0.7620381833128161, 0.7557094865041751, 0.7896384170122976, 0.7541436734114457, 0.7785459168937724, 0.7908124830726591, 0.7912694872180523, 0.7235418338965335, 0.7905516249157379, 0.7769807168636913, 0.7705211311796034, 0.7541435371753016, 0.7872240741255411, 0.7834401663116353, 0.7919871451661509, 0.7808942193096751]}, {\"categories\": [\"0\", \"1\", \"2\", \"3\", \"4\", \"5\", \"6\", \"7\", \"8\", \"9\", \"10\", \"11\", \"12\", \"13\", \"14\", \"15\", \"16\", \"17\", \"18\", \"19\", \"20\", \"21\", \"22\", \"23\", \"24\", \"25\", \"26\", \"27\", \"28\", \"29\", \"33\", \"34\"], \"mode\": \"lines\", \"name\": \"precision_score_micro_max\", \"stepped\": true, \"type\": \"scatter\", \"data\": [0.7902254415277195, 0.7902254415277195, 0.7902254415277195, 0.7902254415277195, 0.7902254415277195, 0.7902254415277195, 0.7902254415277195, 0.7902254415277195, 0.7915303113159377, 0.7915303113159377, 0.7915303113159377, 0.7915303113159377, 0.7915303113159377, 0.7915303113159377, 0.7915303113159377, 0.7915303113159377, 0.7915303113159377, 0.7915303113159377, 0.7915303113159377, 0.7915303113159377, 0.7915303113159377, 0.7915303113159377, 0.7915303113159377, 0.7915303113159377, 0.7915303113159377, 0.7915303113159377, 0.7915303113159377, 0.7915303113159377, 0.7915303113159377, 0.7915303113159377, 0.7919871451661509, 0.7919871451661509]}], \"precision_score_weighted\": [{\"categories\": [\"0\", \"1\", \"2\", \"3\", \"4\", \"5\", \"6\", \"7\", \"8\", \"9\", \"10\", \"11\", \"12\", \"13\", \"14\", \"15\", \"16\", \"17\", \"18\", \"19\", \"20\", \"21\", \"22\", \"23\", \"24\", \"25\", \"26\", \"27\", \"28\", \"29\", \"33\", \"34\"], \"mode\": \"markers\", \"name\": \"precision_score_weighted\", \"stepped\": false, \"type\": \"scatter\", \"data\": [0.7847518287629816, 0.7744790153867485, 0.7804226613658076, 0.5634461278137521, 0.7494802526178266, 0.7820422906554639, 0.7860148178639336, 0.7616659573162383, 0.7854689573573032, 0.7252249747002019, 0.7674895517786037, 0.7902132909103238, 0.7791487467250529, 0.6806696911764717, 0.7684192685033873, 0.7404177642689153, 0.8045314607379487, 0.7921359458774198, 0.7852701503179396, 0.7312668163124826, 0.7584409960308256, 0.7851930935236067, 0.783569231091288, 0.7830299501297329, 0.7850010831943102, 0.7546153652799978, 0.7423097891684247, 0.7251445886081829, 0.7758713808800195, 0.7666107096905415, 0.786430867784989, 0.725682815256742]}, {\"categories\": [\"0\", \"1\", \"2\", \"3\", \"4\", \"5\", \"6\", \"7\", \"8\", \"9\", \"10\", \"11\", \"12\", \"13\", \"14\", \"15\", \"16\", \"17\", \"18\", \"19\", \"20\", \"21\", \"22\", \"23\", \"24\", \"25\", \"26\", \"27\", \"28\", \"29\", \"33\", \"34\"], \"mode\": \"lines\", \"name\": \"precision_score_weighted_max\", \"stepped\": true, \"type\": \"scatter\", \"data\": [0.7847518287629816, 0.7847518287629816, 0.7847518287629816, 0.7847518287629816, 0.7847518287629816, 0.7847518287629816, 0.7860148178639336, 0.7860148178639336, 0.7860148178639336, 0.7860148178639336, 0.7860148178639336, 0.7902132909103238, 0.7902132909103238, 0.7902132909103238, 0.7902132909103238, 0.7902132909103238, 0.8045314607379487, 0.8045314607379487, 0.8045314607379487, 0.8045314607379487, 0.8045314607379487, 0.8045314607379487, 0.8045314607379487, 0.8045314607379487, 0.8045314607379487, 0.8045314607379487, 0.8045314607379487, 0.8045314607379487, 0.8045314607379487, 0.8045314607379487, 0.8045314607379487, 0.8045314607379487]}]}, \"metricName\": null, \"primaryMetricName\": \"AUC_weighted\", \"showLegend\": false}, \"run_metrics\": [{\"name\": \"experiment_status\", \"run_id\": \"AutoML_fc1cd03b-c70e-4838-89fb-980255d11dd2\", \"categories\": [0, 1, 2, 3, 4, 5, 6, 7, 8, 9, 10, 11, 12, 13], \"series\": [{\"data\": [\"DatasetEvaluation\", \"FeaturesGeneration\", \"DatasetFeaturization\", \"DatasetFeaturizationCompleted\", \"DatasetCrossValidationSplit\", \"ModelSelection\", \"BestRunExplainModel\", \"ModelExplanationDataSetSetup\", \"PickSurrogateModel\", \"EngineeredFeatureExplanations\", \"EngineeredFeatureExplanations\", \"RawFeaturesExplanations\", \"RawFeaturesExplanations\", \"BestRunExplainModel\"]}]}, {\"name\": \"experiment_status_description\", \"run_id\": \"AutoML_fc1cd03b-c70e-4838-89fb-980255d11dd2\", \"categories\": [0, 1, 2, 3, 4, 5, 6, 7, 8, 9, 10, 11, 12, 13], \"series\": [{\"data\": [\"Gathering dataset statistics.\", \"Generating features for the dataset.\", \"Beginning to fit featurizers and featurize the dataset.\", \"Completed fit featurizers and featurizing the dataset.\", \"Generating individually featurized CV splits.\", \"Beginning model selection.\", \"Best run model explanations started\", \"Model explanations data setup completed\", \"Choosing LightGBM as the surrogate model for explanations\", \"Computation of engineered features started\", \"Computation of engineered features completed\", \"Computation of raw features started\", \"Computation of raw features completed\", \"Best run model explanations completed\"]}]}, {\"name\": \"precision_score_weighted\", \"run_id\": \"AutoML_fc1cd03b-c70e-4838-89fb-980255d11dd2\", \"categories\": [0], \"series\": [{\"data\": [0.786430867784989]}]}, {\"name\": \"balanced_accuracy\", \"run_id\": \"AutoML_fc1cd03b-c70e-4838-89fb-980255d11dd2\", \"categories\": [0], \"series\": [{\"data\": [0.7078575936331652]}]}, {\"name\": \"matthews_correlation\", \"run_id\": \"AutoML_fc1cd03b-c70e-4838-89fb-980255d11dd2\", \"categories\": [0], \"series\": [{\"data\": [0.4286459564710349]}]}, {\"name\": \"f1_score_macro\", \"run_id\": \"AutoML_fc1cd03b-c70e-4838-89fb-980255d11dd2\", \"categories\": [0], \"series\": [{\"data\": [0.7137734998771302]}]}, {\"name\": \"precision_score_micro\", \"run_id\": \"AutoML_fc1cd03b-c70e-4838-89fb-980255d11dd2\", \"categories\": [0], \"series\": [{\"data\": [0.7919871451661509]}]}, {\"name\": \"log_loss\", \"run_id\": \"AutoML_fc1cd03b-c70e-4838-89fb-980255d11dd2\", \"categories\": [0], \"series\": [{\"data\": [0.4578270184597667]}]}, {\"name\": \"average_precision_score_weighted\", \"run_id\": \"AutoML_fc1cd03b-c70e-4838-89fb-980255d11dd2\", \"categories\": [0], \"series\": [{\"data\": [0.8164051864145325]}]}, {\"name\": \"AUC_micro\", \"run_id\": \"AutoML_fc1cd03b-c70e-4838-89fb-980255d11dd2\", \"categories\": [0], \"series\": [{\"data\": [0.8762792962386869]}]}, {\"name\": \"AUC_weighted\", \"run_id\": \"AutoML_fc1cd03b-c70e-4838-89fb-980255d11dd2\", \"categories\": [0], \"series\": [{\"data\": [0.8029023400940969]}]}, {\"name\": \"f1_score_micro\", \"run_id\": \"AutoML_fc1cd03b-c70e-4838-89fb-980255d11dd2\", \"categories\": [0], \"series\": [{\"data\": [0.7919871451661509]}]}, {\"name\": \"recall_score_macro\", \"run_id\": \"AutoML_fc1cd03b-c70e-4838-89fb-980255d11dd2\", \"categories\": [0], \"series\": [{\"data\": [0.7078575936331652]}]}, {\"name\": \"f1_score_weighted\", \"run_id\": \"AutoML_fc1cd03b-c70e-4838-89fb-980255d11dd2\", \"categories\": [0], \"series\": [{\"data\": [0.7887998040831503]}]}, {\"name\": \"precision_score_macro\", \"run_id\": \"AutoML_fc1cd03b-c70e-4838-89fb-980255d11dd2\", \"categories\": [0], \"series\": [{\"data\": [0.7209916832114792]}]}, {\"name\": \"norm_macro_recall\", \"run_id\": \"AutoML_fc1cd03b-c70e-4838-89fb-980255d11dd2\", \"categories\": [0], \"series\": [{\"data\": [0.4157151872663304]}]}, {\"name\": \"weighted_accuracy\", \"run_id\": \"AutoML_fc1cd03b-c70e-4838-89fb-980255d11dd2\", \"categories\": [0], \"series\": [{\"data\": [0.8422862651885344]}]}, {\"name\": \"average_precision_score_macro\", \"run_id\": \"AutoML_fc1cd03b-c70e-4838-89fb-980255d11dd2\", \"categories\": [0], \"series\": [{\"data\": [0.7251787742123551]}]}, {\"name\": \"recall_score_weighted\", \"run_id\": \"AutoML_fc1cd03b-c70e-4838-89fb-980255d11dd2\", \"categories\": [0], \"series\": [{\"data\": [0.7919871451661509]}]}, {\"name\": \"recall_score_micro\", \"run_id\": \"AutoML_fc1cd03b-c70e-4838-89fb-980255d11dd2\", \"categories\": [0], \"series\": [{\"data\": [0.7919871451661509]}]}, {\"name\": \"accuracy\", \"run_id\": \"AutoML_fc1cd03b-c70e-4838-89fb-980255d11dd2\", \"categories\": [0], \"series\": [{\"data\": [0.7919871451661509]}]}, {\"name\": \"AUC_macro\", \"run_id\": \"AutoML_fc1cd03b-c70e-4838-89fb-980255d11dd2\", \"categories\": [0], \"series\": [{\"data\": [0.8029023169530902]}]}, {\"name\": \"average_precision_score_micro\", \"run_id\": \"AutoML_fc1cd03b-c70e-4838-89fb-980255d11dd2\", \"categories\": [0], \"series\": [{\"data\": [0.8649168590136949]}]}], \"run_logs\": \"\\nRun is completed.\", \"graph\": {}, \"widget_settings\": {\"childWidgetDisplay\": \"popup\", \"send_telemetry\": false, \"log_level\": \"INFO\", \"sdk_version\": \"1.28.0\"}, \"loading\": false}"
          },
          "metadata": {}
        },
        {
          "output_type": "execute_result",
          "execution_count": 9,
          "data": {
            "text/plain": "{'runId': 'AutoML_fc1cd03b-c70e-4838-89fb-980255d11dd2',\n 'target': 'alpha',\n 'status': 'Completed',\n 'startTimeUtc': '2021-09-08T14:00:07.040932Z',\n 'endTimeUtc': '2021-09-08T14:29:06.543148Z',\n 'properties': {'num_iterations': '1000',\n  'training_type': 'TrainFull',\n  'acquisition_function': 'EI',\n  'primary_metric': 'AUC_weighted',\n  'train_split': '0',\n  'acquisition_parameter': '0',\n  'num_cross_validation': '4',\n  'target': 'alpha',\n  'AMLSettingsJsonString': '{\"path\":null,\"name\":\"hyperdrive-udacity-capstone-hyperdrive\",\"subscription_id\":\"ec5ba19e-6205-418f-a52d-d0943090ca16\",\"resource_group\":\"rg-wwe-ictx-dsplayground\",\"workspace_name\":\"aml-wwe-ictx-dsplay\",\"region\":\"westeurope\",\"compute_target\":\"alpha\",\"spark_service\":null,\"azure_service\":\"remote\",\"many_models\":false,\"pipeline_fetch_max_batch_size\":1,\"enable_batch_run\":false,\"enable_run_restructure\":false,\"start_auxiliary_runs_before_parent_complete\":false,\"enable_code_generation\":false,\"iterations\":1000,\"primary_metric\":\"AUC_weighted\",\"task_type\":\"classification\",\"data_script\":null,\"test_size\":0.0,\"validation_size\":0.0,\"n_cross_validations\":4,\"y_min\":null,\"y_max\":null,\"num_classes\":null,\"featurization\":\"auto\",\"_ignore_package_version_incompatibilities\":false,\"is_timeseries\":false,\"max_cores_per_iteration\":1,\"max_concurrent_iterations\":4,\"iteration_timeout_minutes\":null,\"mem_in_mb\":null,\"enforce_time_on_windows\":false,\"experiment_timeout_minutes\":20,\"experiment_exit_score\":null,\"whitelist_models\":null,\"blacklist_algos\":[\"TensorFlowLinearClassifier\",\"TensorFlowDNN\"],\"supported_models\":[\"DecisionTree\",\"LinearSVM\",\"SVM\",\"RandomForest\",\"MultinomialNaiveBayes\",\"SGD\",\"TensorFlowDNN\",\"AveragedPerceptronClassifier\",\"BernoulliNaiveBayes\",\"TensorFlowLinearClassifier\",\"ExtremeRandomTrees\",\"GradientBoosting\",\"LogisticRegression\",\"KNN\",\"XGBoostClassifier\",\"LightGBM\"],\"private_models\":[],\"auto_blacklist\":true,\"blacklist_samples_reached\":false,\"exclude_nan_labels\":true,\"verbosity\":20,\"_debug_log\":\"azureml_automl.log\",\"show_warnings\":false,\"model_explainability\":true,\"service_url\":null,\"sdk_url\":null,\"sdk_packages\":null,\"enable_onnx_compatible_models\":false,\"enable_split_onnx_featurizer_estimator_models\":false,\"vm_type\":\"STANDARD_DS3_V2\",\"telemetry_verbosity\":20,\"send_telemetry\":true,\"enable_dnn\":false,\"scenario\":\"SDK-1.13.0\",\"environment_label\":null,\"save_mlflow\":false,\"force_text_dnn\":false,\"enable_feature_sweeping\":true,\"enable_early_stopping\":true,\"early_stopping_n_iters\":10,\"metrics\":null,\"enable_metric_confidence\":false,\"enable_ensembling\":true,\"enable_stack_ensembling\":true,\"ensemble_iterations\":15,\"enable_tf\":false,\"enable_subsampling\":null,\"subsample_seed\":null,\"enable_nimbusml\":false,\"enable_streaming\":false,\"force_streaming\":false,\"track_child_runs\":true,\"allowed_private_models\":[],\"label_column_name\":\"target\",\"weight_column_name\":null,\"cv_split_column_names\":null,\"enable_local_managed\":false,\"_local_managed_run_id\":null,\"cost_mode\":1,\"lag_length\":0,\"metric_operation\":\"maximize\",\"preprocess\":true}',\n  'DataPrepJsonString': '{\\\\\"training_data\\\\\": {\\\\\"datasetId\\\\\": \\\\\"32b7b28e-beb0-4a55-bd3e-9e650f468482\\\\\"}, \\\\\"datasets\\\\\": 0}',\n  'EnableSubsampling': None,\n  'runTemplate': 'AutoML',\n  'azureml.runsource': 'automl',\n  'display_task_type': 'classification',\n  'dependencies_versions': '{\"azureml-widgets\": \"1.28.0\", \"azureml-train\": \"1.28.0\", \"azureml-train-restclients-hyperdrive\": \"1.28.0\", \"azureml-train-core\": \"1.28.0\", \"azureml-train-automl-client\": \"1.28.0\", \"azureml-tensorboard\": \"1.28.0\", \"azureml-telemetry\": \"1.28.0\", \"azureml-sdk\": \"1.28.0\", \"azureml-pipeline\": \"1.28.0\", \"azureml-pipeline-steps\": \"1.28.0\", \"azureml-pipeline-core\": \"1.28.0\", \"azureml-opendatasets\": \"1.28.0\", \"azureml-model-management-sdk\": \"1.0.1b6.post1\", \"azureml-mlflow\": \"1.28.0\", \"azureml-interpret\": \"1.28.0\", \"azureml-inference-server-http\": \"0.3.1\", \"azureml-explain-model\": \"1.28.0\", \"azureml-defaults\": \"1.28.0\", \"azureml-dataset-runtime\": \"1.28.0\", \"azureml-dataprep\": \"2.15.0\", \"azureml-dataprep-rslex\": \"1.13.0\", \"azureml-dataprep-native\": \"33.0.0\", \"azureml-datadrift\": \"1.28.0\", \"azureml-core\": \"1.28.0\", \"azureml-contrib-services\": \"1.28.0\", \"azureml-contrib-server\": \"1.28.0\", \"azureml-contrib-reinforcementlearning\": \"1.28.0\", \"azureml-contrib-pipeline-steps\": \"1.28.0\", \"azureml-contrib-notebook\": \"1.28.0\", \"azureml-contrib-gbdt\": \"1.28.0\", \"azureml-contrib-fairness\": \"1.28.0\", \"azureml-contrib-dataset\": \"1.28.0\", \"azureml-cli-common\": \"1.28.0\", \"azureml-automl-core\": \"1.28.0\", \"azureml-accel-models\": \"1.28.0\"}',\n  '_aml_system_scenario_identification': 'Remote.Parent',\n  'ClientType': 'SDK',\n  'environment_cpu_name': 'AzureML-AutoML',\n  'environment_cpu_label': 'prod',\n  'environment_gpu_name': 'AzureML-AutoML-GPU',\n  'environment_gpu_label': 'prod',\n  'root_attribution': 'automl',\n  'attribution': 'AutoML',\n  'Orchestrator': 'AutoML',\n  'CancelUri': 'https://westeurope.api.azureml.ms/jasmine/v1.0/subscriptions/ec5ba19e-6205-418f-a52d-d0943090ca16/resourceGroups/rg-wwe-ictx-dsplayground/providers/Microsoft.MachineLearningServices/workspaces/aml-wwe-ictx-dsplay/experimentids/7bf841a5-e9c7-4a93-b762-a57964f91f6c/cancel/AutoML_fc1cd03b-c70e-4838-89fb-980255d11dd2',\n  'azureml.git.repository_uri': 'https://github.com/llancia/AzureCapstoneProject.git',\n  'mlflow.source.git.repoURL': 'https://github.com/llancia/AzureCapstoneProject.git',\n  'azureml.git.branch': 'main',\n  'mlflow.source.git.branch': 'main',\n  'azureml.git.commit': '084f0337bb318970b3e2f95dc38e3a18d5365d46',\n  'mlflow.source.git.commit': '084f0337bb318970b3e2f95dc38e3a18d5365d46',\n  'azureml.git.dirty': 'True',\n  'ClientSdkVersion': '1.33.1.post1',\n  'snapshotId': '00000000-0000-0000-0000-000000000000',\n  'SetupRunId': 'AutoML_fc1cd03b-c70e-4838-89fb-980255d11dd2_setup',\n  'SetupRunContainerId': 'dcid.AutoML_fc1cd03b-c70e-4838-89fb-980255d11dd2_setup',\n  'FeaturizationRunJsonPath': 'featurizer_container.json',\n  'FeaturizationRunId': 'AutoML_fc1cd03b-c70e-4838-89fb-980255d11dd2_featurize',\n  'ProblemInfoJsonString': '{\"dataset_num_categorical\": 0, \"is_sparse\": true, \"subsampling\": false, \"has_extra_col\": true, \"dataset_classes\": 2, \"dataset_features\": 411, \"dataset_samples\": 15326, \"single_frequency_class_detected\": false}',\n  'ModelExplainRunId': 'AutoML_fc1cd03b-c70e-4838-89fb-980255d11dd2_ModelExplain'},\n 'inputDatasets': [{'dataset': {'id': '32b7b28e-beb0-4a55-bd3e-9e650f468482'}, 'consumptionDetails': {'type': 'RunInput', 'inputName': 'training_data', 'mechanism': 'Direct'}}],\n 'outputDatasets': [],\n 'logFiles': {},\n 'submittedBy': 'Lorenzo Lancia'}"
          },
          "metadata": {}
        }
      ],
      "execution_count": 9,
      "metadata": {
        "gather": {
          "logged": 1631111351433
        },
        "jupyter": {
          "outputs_hidden": false,
          "source_hidden": false
        },
        "nteract": {
          "transient": {
            "deleting": false
          }
        }
      }
    },
    {
      "cell_type": "markdown",
      "source": [
        "## Best Model\n",
        "\n",
        "TODO: In the cell below, get the best model from the automl experiments and display all the properties of the model.\n",
        "\n"
      ],
      "metadata": {}
    },
    {
      "cell_type": "code",
      "source": [
        "from azureml.train.automl.run import AutoMLRun\n",
        "remote_run = AutoMLRun(experiment, run_id=\"AutoML_fc1cd03b-c70e-4838-89fb-980255d11dd2\")\n",
        "best_run_automl, best_model_automl = remote_run.get_output()\n",
        "best_run_metrics_automl = best_run_automl.get_metrics()\n"
      ],
      "outputs": [
        {
          "output_type": "stream",
          "name": "stderr",
          "text": "WARNING:root:The version of the SDK does not match the version the model was trained on.\nWARNING:root:The consistency in the result may not be guaranteed.\nWARNING:root:Package:azureml-automl-core, training version:1.33.1, current version:1.28.0\nPackage:azureml-automl-runtime, training version:1.33.1, current version:1.28.0.post2\nPackage:azureml-core, training version:1.33.0.post1, current version:1.28.0\nPackage:azureml-dataprep, training version:2.20.1, current version:2.15.0\nPackage:azureml-dataprep-native, training version:38.0.0, current version:33.0.0\nPackage:azureml-dataprep-rslex, training version:1.18.2, current version:1.13.0\nPackage:azureml-dataset-runtime, training version:1.33.0, current version:1.28.0\nPackage:azureml-defaults, training version:1.33.0, current version:1.28.0\nPackage:azureml-interpret, training version:1.33.0, current version:1.28.0\nPackage:azureml-mlflow, training version:1.33.0, current version:1.28.0\nPackage:azureml-pipeline-core, training version:1.33.0, current version:1.28.0\nPackage:azureml-telemetry, training version:1.33.0, current version:1.28.0\nPackage:azureml-train-automl-client, training version:1.33.0, current version:1.28.0\nPackage:azureml-train-automl-runtime, training version:1.33.1.post1, current version:1.28.0\nWARNING:root:Below packages were used for model training but missing in current environment:\nWARNING:root:Package:azureml-responsibleai, training version:1.33.0\nWARNING:root:Please ensure the version of your local conda dependencies match the version on which your model was trained in order to properly retrieve your model.\n"
        }
      ],
      "execution_count": 5,
      "metadata": {
        "jupyter": {
          "source_hidden": false,
          "outputs_hidden": false
        },
        "nteract": {
          "transient": {
            "deleting": false
          }
        },
        "gather": {
          "logged": 1631111963554
        }
      }
    },
    {
      "cell_type": "markdown",
      "source": [
        "# Test Model"
      ],
      "metadata": {
        "nteract": {
          "transient": {
            "deleting": false
          }
        }
      }
    },
    {
      "cell_type": "code",
      "source": [
        "\n",
        "#dataset = Dataset.get_by_name(ws, name='HRAnalytics_test_dastest')\n",
        "dataset = ws.datasets[\"HRAnalytics_test_dastest\"]\n",
        "\n"
      ],
      "outputs": [],
      "execution_count": 6,
      "metadata": {
        "collapsed": true,
        "jupyter": {
          "source_hidden": false,
          "outputs_hidden": false
        },
        "nteract": {
          "transient": {
            "deleting": false
          }
        },
        "gather": {
          "logged": 1631111964138
        }
      }
    },
    {
      "cell_type": "code",
      "source": [
        "test_df = dataset.to_pandas_dataframe()\n"
      ],
      "outputs": [],
      "execution_count": 7,
      "metadata": {
        "jupyter": {
          "source_hidden": false,
          "outputs_hidden": false
        },
        "nteract": {
          "transient": {
            "deleting": false
          }
        },
        "gather": {
          "logged": 1631111965523
        }
      }
    },
    {
      "cell_type": "code",
      "source": [
        "y_true = test_df[\"target\"]\n",
        "x = test_df.drop(columns=[\"target\"])\n",
        "\n",
        "y_pred= best_model_automl.predict(x)\n"
      ],
      "outputs": [],
      "execution_count": 8,
      "metadata": {
        "collapsed": true,
        "jupyter": {
          "source_hidden": false,
          "outputs_hidden": false
        },
        "nteract": {
          "transient": {
            "deleting": false
          }
        },
        "gather": {
          "logged": 1631111967824
        }
      }
    },
    {
      "cell_type": "code",
      "source": [
        "from sklearn.metrics import classification_report, confusion_matrix\n",
        "\n",
        "print(classification_report(y_true, y_pred))\n",
        "\n",
        "print(confusion_matrix(y_true, y_pred))"
      ],
      "outputs": [
        {
          "output_type": "stream",
          "name": "stdout",
          "text": "              precision    recall  f1-score   support\n\n          no       0.85      0.88      0.87      2877\n         yes       0.61      0.54      0.57       955\n\n    accuracy                           0.80      3832\n   macro avg       0.73      0.71      0.72      3832\nweighted avg       0.79      0.80      0.80      3832\n\n[[2546  331]\n [ 438  517]]\n"
        }
      ],
      "execution_count": 9,
      "metadata": {
        "collapsed": true,
        "jupyter": {
          "source_hidden": false,
          "outputs_hidden": false
        },
        "nteract": {
          "transient": {
            "deleting": false
          }
        },
        "gather": {
          "logged": 1631111970186
        }
      }
    },
    {
      "cell_type": "code",
      "source": [
        "best_model_automl"
      ],
      "outputs": [
        {
          "output_type": "execute_result",
          "execution_count": 10,
          "data": {
            "text/plain": "PipelineWithYTransformations(Pipeline={'memory': None,\n                                       'steps': [('datatransformer',\n                                                  DataTransformer(enable_dnn=False, enable_feature_sweeping=True, feature_sweeping_config={}, feature_sweeping_timeout=86400, featurization_config=None, force_text_dnn=False, is_cross_validation=True, is_onnx_compatible=False, observer=None, task='classification', working_dir='/mn...\n)), ('extratreesclassifier', ExtraTreesClassifier(bootstrap=False, ccp_alpha=0.0, class_weight='balanced', criterion='gini', max_depth=None, max_features=None, max_leaf_nodes=None, max_samples=None, min_impurity_decrease=0.0, min_impurity_split=None, min_samples_leaf=0.01, min_samples_split=0.056842105263157895, min_weight_fraction_leaf=0.0, n_estimators=200, n_jobs=1, oob_score=False, random_state=None, verbose=0, warm_start=False))], verbose=False))], flatten_transform=None, weights=[0.06666666666666667, 0.3333333333333333, 0.06666666666666667, 0.13333333333333333, 0.06666666666666667, 0.13333333333333333, 0.13333333333333333, 0.06666666666666667]))],\n                                       'verbose': False},\n                             y_transformer={},\n                             y_transformer_name='LabelEncoder')"
          },
          "metadata": {}
        }
      ],
      "execution_count": 10,
      "metadata": {
        "jupyter": {
          "source_hidden": false,
          "outputs_hidden": false
        },
        "nteract": {
          "transient": {
            "deleting": false
          }
        },
        "gather": {
          "logged": 1631111972868
        }
      }
    },
    {
      "cell_type": "code",
      "source": [
        "best_run_automl.register_model(\"automlcapstone\", 'outputs/model.pkl')"
      ],
      "outputs": [
        {
          "output_type": "execute_result",
          "execution_count": 12,
          "data": {
            "text/plain": "Model(workspace=Workspace.create(name='aml-wwe-ictx-dsplay', subscription_id='ec5ba19e-6205-418f-a52d-d0943090ca16', resource_group='rg-wwe-ictx-dsplayground'), name=automlcapstone, id=automlcapstone:1, version=1, tags={}, properties={})"
          },
          "metadata": {}
        }
      ],
      "execution_count": 12,
      "metadata": {
        "jupyter": {
          "source_hidden": false,
          "outputs_hidden": false
        },
        "nteract": {
          "transient": {
            "deleting": false
          }
        },
        "gather": {
          "logged": 1631112123094
        }
      }
    },
    {
      "cell_type": "code",
      "source": [],
      "outputs": [],
      "execution_count": null,
      "metadata": {
        "jupyter": {
          "source_hidden": false,
          "outputs_hidden": false
        },
        "nteract": {
          "transient": {
            "deleting": false
          }
        }
      }
    }
  ],
  "metadata": {
    "kernel_info": {
      "name": "python3-azureml"
    },
    "kernelspec": {
      "name": "python3-azureml",
      "language": "python",
      "display_name": "Python 3.6 - AzureML"
    },
    "nteract": {
      "version": "nteract-front-end@1.0.0"
    },
    "interpreter": {
      "hash": "c2d7162e38cbe972ab9d255938448a87119f02533632fac9812f642a39a25e97"
    },
    "microsoft": {
      "host": {
        "AzureML": {
          "notebookHasBeenCompleted": true
        }
      }
    },
    "language_info": {
      "name": "python",
      "version": "3.6.9",
      "mimetype": "text/x-python",
      "codemirror_mode": {
        "name": "ipython",
        "version": 3
      },
      "pygments_lexer": "ipython3",
      "nbconvert_exporter": "python",
      "file_extension": ".py"
    }
  },
  "nbformat": 4,
  "nbformat_minor": 2
}