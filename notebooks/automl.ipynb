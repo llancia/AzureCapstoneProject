{
 "cells": [
  {
   "cell_type": "markdown",
   "source": [
    "# Automated ML\n",
    "\n",
    "TODO: Import Dependencies. In the cell below, import all the dependencies that you will need to complete the project."
   ],
   "metadata": {}
  },
  {
   "cell_type": "code",
   "execution_count": 1,
   "source": [
    "from azureml.core.experiment import Experiment\r\n",
    "from azureml.core.workspace import Workspace\r\n",
    "from azureml.train.automl import AutoMLConfig\r\n",
    "from azureml.core.dataset import Dataset\r\n",
    "from azureml.core.compute import ComputeTarget, AmlCompute\r\n",
    "from azureml.core.compute_target import ComputeTargetException\r\n",
    "from azureml.widgets import RunDetails\r\n",
    "\r\n",
    "import sys, os"
   ],
   "outputs": [],
   "metadata": {
    "gather": {
     "logged": 1598423888013
    },
    "jupyter": {
     "outputs_hidden": false,
     "source_hidden": false
    },
    "nteract": {
     "transient": {
      "deleting": false
     }
    }
   }
  },
  {
   "cell_type": "markdown",
   "source": [
    "## Dataset\n",
    "\n",
    "### Overview\n",
    "TODO: In this markdown cell, give an overview of the dataset you are using. Also mention the task you will be performing.\n",
    "\n",
    "\n",
    "TODO: Get data. In the cell below, write code to access the data you will be using in this project. Remember that the dataset needs to be external."
   ],
   "metadata": {}
  },
  {
   "cell_type": "code",
   "execution_count": 2,
   "source": [
    "# Worspace and experiment\r\n",
    "\r\n",
    "ws = Workspace.from_config()\r\n",
    "experiment_name = 'automl-experiment'\r\n",
    "project_folder = './automl-project'\r\n",
    "\r\n",
    "experiment=Experiment(ws, experiment_name)\r\n",
    "\r\n",
    "print('Workspace name: ' + ws.name, \r\n",
    "      'Azure region: ' + ws.location, \r\n",
    "      'Subscription id: ' + ws.subscription_id, \r\n",
    "      'Resource group: ' + ws.resource_group, sep = '\\n')"
   ],
   "outputs": [
    {
     "output_type": "stream",
     "name": "stdout",
     "text": [
      "Workspace name: aml-wwe-ictx-dsplay\n",
      "Azure region: westeurope\n",
      "Subscription id: ec5ba19e-6205-418f-a52d-d0943090ca16\n",
      "Resource group: rg-wwe-ictx-dsplayground\n"
     ]
    }
   ],
   "metadata": {
    "gather": {
     "logged": 1598423890461
    },
    "jupyter": {
     "outputs_hidden": false,
     "source_hidden": false
    },
    "nteract": {
     "transient": {
      "deleting": false
     }
    }
   }
  },
  {
   "cell_type": "code",
   "execution_count": 3,
   "source": [
    "# Create compute cluster\r\n",
    "\r\n",
    "compute_cluster_name = \"alpha\"\r\n",
    "\r\n",
    "try:\r\n",
    "    compute_cluster = ComputeTarget(workspace=ws, name=compute_cluster_name)\r\n",
    "    print(\"Found existing cluster, please use it.\")\r\n",
    "except ComputeTargetException:\r\n",
    "    compute_config = AmlCompute.provisioning_configuration(vm_size='STANDARD_D2_V2', max_nodes=4)\r\n",
    "    compute_cluster = ComputeTarget.create(ws, compute_cluster_name, compute_config)\r\n",
    "\r\n",
    "compute_cluster.wait_for_completion(show_output=True)"
   ],
   "outputs": [
    {
     "output_type": "stream",
     "name": "stdout",
     "text": [
      "Found existing cluster, please use it.\n",
      "Succeeded\n",
      "AmlCompute wait for completion finished\n",
      "\n",
      "Minimum number of nodes requested have been provisioned\n"
     ]
    }
   ],
   "metadata": {}
  },
  {
   "cell_type": "code",
   "execution_count": 4,
   "source": [
    "# Dataset\r\n",
    "\r\n",
    "\r\n",
    "dataset_name = \"HrAnalytics-DataScientist\"\r\n",
    "\r\n",
    "if dataset_name in ws.datasets.keys():\r\n",
    "        dataset = ws.datasets[dataset_name]\r\n",
    "\r\n",
    "else:\r\n",
    "        sys.path.append(\"..\")\r\n",
    "        from scripts.create_dataset import main as register_dataset\r\n",
    "        # Create AML Dataset and register it into Workspace\r\n",
    "        register_dataset()\r\n",
    "        dataset = ws.datasets[dataset_name]\r\n",
    "\r\n",
    "\r\n",
    "df = dataset.to_pandas_dataframe()\r\n",
    "df.head()"
   ],
   "outputs": [
    {
     "output_type": "execute_result",
     "data": {
      "text/plain": [
       "   enrollee_id      city  city_development_index gender  \\\n",
       "0         8949  city_103                   0.920   Male   \n",
       "1        29725   city_40                   0.776   Male   \n",
       "2        11561   city_21                   0.624   None   \n",
       "3        33241  city_115                   0.789   None   \n",
       "4          666  city_162                   0.767   Male   \n",
       "\n",
       "       relevent_experience enrolled_university education_level  \\\n",
       "0  Has relevent experience       no_enrollment        Graduate   \n",
       "1   No relevent experience       no_enrollment        Graduate   \n",
       "2   No relevent experience    Full time course        Graduate   \n",
       "3   No relevent experience                None        Graduate   \n",
       "4  Has relevent experience       no_enrollment         Masters   \n",
       "\n",
       "  major_discipline experience company_size    company_type last_new_job  \\\n",
       "0             STEM        >20         None            None            1   \n",
       "1             STEM         15        50-99         Pvt Ltd           >4   \n",
       "2             STEM          5         None            None        never   \n",
       "3  Business Degree         <1         None         Pvt Ltd        never   \n",
       "4             STEM        >20        50-99  Funded Startup            4   \n",
       "\n",
       "   training_hours  target  \n",
       "0              36     1.0  \n",
       "1              47     0.0  \n",
       "2              83     0.0  \n",
       "3              52     1.0  \n",
       "4               8     0.0  "
      ],
      "text/html": [
       "<div>\n",
       "<style scoped>\n",
       "    .dataframe tbody tr th:only-of-type {\n",
       "        vertical-align: middle;\n",
       "    }\n",
       "\n",
       "    .dataframe tbody tr th {\n",
       "        vertical-align: top;\n",
       "    }\n",
       "\n",
       "    .dataframe thead th {\n",
       "        text-align: right;\n",
       "    }\n",
       "</style>\n",
       "<table border=\"1\" class=\"dataframe\">\n",
       "  <thead>\n",
       "    <tr style=\"text-align: right;\">\n",
       "      <th></th>\n",
       "      <th>enrollee_id</th>\n",
       "      <th>city</th>\n",
       "      <th>city_development_index</th>\n",
       "      <th>gender</th>\n",
       "      <th>relevent_experience</th>\n",
       "      <th>enrolled_university</th>\n",
       "      <th>education_level</th>\n",
       "      <th>major_discipline</th>\n",
       "      <th>experience</th>\n",
       "      <th>company_size</th>\n",
       "      <th>company_type</th>\n",
       "      <th>last_new_job</th>\n",
       "      <th>training_hours</th>\n",
       "      <th>target</th>\n",
       "    </tr>\n",
       "  </thead>\n",
       "  <tbody>\n",
       "    <tr>\n",
       "      <th>0</th>\n",
       "      <td>8949</td>\n",
       "      <td>city_103</td>\n",
       "      <td>0.920</td>\n",
       "      <td>Male</td>\n",
       "      <td>Has relevent experience</td>\n",
       "      <td>no_enrollment</td>\n",
       "      <td>Graduate</td>\n",
       "      <td>STEM</td>\n",
       "      <td>&gt;20</td>\n",
       "      <td>None</td>\n",
       "      <td>None</td>\n",
       "      <td>1</td>\n",
       "      <td>36</td>\n",
       "      <td>1.0</td>\n",
       "    </tr>\n",
       "    <tr>\n",
       "      <th>1</th>\n",
       "      <td>29725</td>\n",
       "      <td>city_40</td>\n",
       "      <td>0.776</td>\n",
       "      <td>Male</td>\n",
       "      <td>No relevent experience</td>\n",
       "      <td>no_enrollment</td>\n",
       "      <td>Graduate</td>\n",
       "      <td>STEM</td>\n",
       "      <td>15</td>\n",
       "      <td>50-99</td>\n",
       "      <td>Pvt Ltd</td>\n",
       "      <td>&gt;4</td>\n",
       "      <td>47</td>\n",
       "      <td>0.0</td>\n",
       "    </tr>\n",
       "    <tr>\n",
       "      <th>2</th>\n",
       "      <td>11561</td>\n",
       "      <td>city_21</td>\n",
       "      <td>0.624</td>\n",
       "      <td>None</td>\n",
       "      <td>No relevent experience</td>\n",
       "      <td>Full time course</td>\n",
       "      <td>Graduate</td>\n",
       "      <td>STEM</td>\n",
       "      <td>5</td>\n",
       "      <td>None</td>\n",
       "      <td>None</td>\n",
       "      <td>never</td>\n",
       "      <td>83</td>\n",
       "      <td>0.0</td>\n",
       "    </tr>\n",
       "    <tr>\n",
       "      <th>3</th>\n",
       "      <td>33241</td>\n",
       "      <td>city_115</td>\n",
       "      <td>0.789</td>\n",
       "      <td>None</td>\n",
       "      <td>No relevent experience</td>\n",
       "      <td>None</td>\n",
       "      <td>Graduate</td>\n",
       "      <td>Business Degree</td>\n",
       "      <td>&lt;1</td>\n",
       "      <td>None</td>\n",
       "      <td>Pvt Ltd</td>\n",
       "      <td>never</td>\n",
       "      <td>52</td>\n",
       "      <td>1.0</td>\n",
       "    </tr>\n",
       "    <tr>\n",
       "      <th>4</th>\n",
       "      <td>666</td>\n",
       "      <td>city_162</td>\n",
       "      <td>0.767</td>\n",
       "      <td>Male</td>\n",
       "      <td>Has relevent experience</td>\n",
       "      <td>no_enrollment</td>\n",
       "      <td>Masters</td>\n",
       "      <td>STEM</td>\n",
       "      <td>&gt;20</td>\n",
       "      <td>50-99</td>\n",
       "      <td>Funded Startup</td>\n",
       "      <td>4</td>\n",
       "      <td>8</td>\n",
       "      <td>0.0</td>\n",
       "    </tr>\n",
       "  </tbody>\n",
       "</table>\n",
       "</div>"
      ]
     },
     "metadata": {},
     "execution_count": 4
    }
   ],
   "metadata": {}
  },
  {
   "cell_type": "markdown",
   "source": [
    "## Data Preparation Step\r\n",
    "\r\n"
   ],
   "metadata": {}
  },
  {
   "cell_type": "code",
   "execution_count": 6,
   "source": [
    "%%writefile ./dataprep.py\r\n",
    "from azureml.core import Run\r\n",
    "\r\n",
    "import pandas as pd \r\n",
    "import numpy as np \r\n",
    "import argparse\r\n",
    "\r\n",
    "RANDOM_SEED=42\r\n",
    "\r\n",
    "def make_target(df):\r\n",
    "\r\n",
    "    df.target = df.target.map({1.0: \"yes\", 0.0: \"no\"})\r\n",
    "\r\n",
    "    return df\r\n",
    "\r\n",
    "def drop_cols(df):\r\n",
    "\r\n",
    "    return df.drop([\"enrollee_id\"])\r\n",
    "\r\n",
    "    \r\n",
    "parser = argparse.ArgumentParser()\r\n",
    "parser.add_argument('--output_path', dest='output_path', required=True)\r\n",
    "args = parser.parse_args()\r\n",
    "    \r\n",
    "ds = Run.get_context().input_datasets['input_ds']\r\n",
    "df = ds.to_pandas_dataframe()\r\n",
    "\r\n",
    "\r\n",
    "\r\n",
    "df.to_csv(os.path.join(args.output_path,\"prepped_data.csv\"))\r\n",
    "\r\n",
    "print(f\"Wrote prepped data to {args.output_path}/prepped_data.csv\")"
   ],
   "outputs": [
    {
     "output_type": "stream",
     "name": "stdout",
     "text": [
      "Writing ./dataprep.py\n"
     ]
    }
   ],
   "metadata": {}
  },
  {
   "cell_type": "code",
   "execution_count": 8,
   "source": [
    "from azureml.data import OutputFileDatasetConfig\r\n",
    "from azureml.pipeline.steps import PythonScriptStep\r\n",
    "\r\n",
    "prepped_data_path = OutputFileDatasetConfig(name=\"output_path\")\r\n",
    "\r\n",
    "dataprep_step = PythonScriptStep(\r\n",
    "    name=\"dataprep\", \r\n",
    "    script_name=\"dataprep.py\", \r\n",
    "    compute_target=compute_cluster, \r\n",
    "    arguments=[\"--output_path\", prepped_data_path],\r\n",
    "    inputs=[dataset.as_named_input('input_ds')],\r\n",
    "    allow_reuse=True\r\n",
    ")\r\n",
    "\r\n",
    "prepped_data = prepped_data_path.read_delimited_files()\r\n"
   ],
   "outputs": [],
   "metadata": {}
  },
  {
   "cell_type": "markdown",
   "source": [
    "## AutoML Configuration\n",
    "\n",
    "TODO: Explain why you chose the automl settings and cofiguration you used below."
   ],
   "metadata": {}
  },
  {
   "cell_type": "code",
   "execution_count": 9,
   "source": [
    "\r\n",
    "from azureml.pipeline.core import PipelineData, TrainingOutput\r\n",
    "\r\n",
    "ds = ws.get_default_datastore()\r\n",
    "metrics_output_name = 'metrics_output'\r\n",
    "best_model_output_name = 'best_model_output'\r\n",
    "\r\n",
    "metrics_data = PipelineData(name='metrics_data',\r\n",
    "                           datastore=ds,\r\n",
    "                           pipeline_output_name=metrics_output_name,\r\n",
    "                           training_output=TrainingOutput(type='Metrics'))\r\n",
    "model_data = PipelineData(name='model_data',\r\n",
    "                           datastore=ds,\r\n",
    "                           pipeline_output_name=best_model_output_name,\r\n",
    "                           training_output=TrainingOutput(type='Model'))"
   ],
   "outputs": [],
   "metadata": {}
  },
  {
   "cell_type": "code",
   "execution_count": 10,
   "source": [
    "automl_settings = {\r\n",
    "    \"experiment_timeout_minutes\": 20,\r\n",
    "    \"max_concurrent_iterations\": 4,\r\n",
    "    \"n_cross_validations\": 4,\r\n",
    "    \"primary_metric\" : 'AUC_weighted'\r\n",
    "}\r\n",
    "\r\n",
    "automl_config = AutoMLConfig(compute_target=compute_cluster,\r\n",
    "                             task=\"classification\",\r\n",
    "                             label_column_name=\"target\",   \r\n",
    "                             path=project_folder,\r\n",
    "                             training_data = prepped_data,\r\n",
    "                             enable_early_stopping=True,\r\n",
    "                             featurization='auto',\r\n",
    "                             debug_log=\"automl_errors.log\",\r\n",
    "                             **automl_settings\r\n",
    "                            )\r\n",
    "\r\n",
    "from azureml.pipeline.steps import AutoMLStep\r\n",
    "\r\n",
    "automl_step = AutoMLStep(\r\n",
    "    name='automl_module',\r\n",
    "    automl_config=automl_config,\r\n",
    "    outputs=[metrics_data, model_data],\r\n",
    "    allow_reuse=True)\r\n",
    "\r\n"
   ],
   "outputs": [],
   "metadata": {
    "gather": {
     "logged": 1598429217746
    },
    "jupyter": {
     "outputs_hidden": false,
     "source_hidden": false
    },
    "nteract": {
     "transient": {
      "deleting": false
     }
    }
   }
  },
  {
   "cell_type": "code",
   "execution_count": 11,
   "source": [
    "from azureml.pipeline.core import Pipeline\r\n",
    "pipeline = Pipeline(\r\n",
    "    description=\"pipeline_with_automlstep\",\r\n",
    "    workspace=ws,    \r\n",
    "    steps=[dataprep_step,automl_step])"
   ],
   "outputs": [
    {
     "output_type": "stream",
     "name": "stderr",
     "text": [
      "'enabled' is deprecated. Please use the azureml.core.runconfig.DockerConfiguration object with the 'use_docker' param instead.\n"
     ]
    }
   ],
   "metadata": {}
  },
  {
   "cell_type": "code",
   "execution_count": 12,
   "source": [
    "# TODO: Submit your experiment\r\n",
    "remote_run = experiment.submit(pipeline)"
   ],
   "outputs": [],
   "metadata": {
    "gather": {
     "logged": 1598431107951
    },
    "jupyter": {
     "outputs_hidden": false,
     "source_hidden": false
    },
    "nteract": {
     "transient": {
      "deleting": false
     }
    }
   }
  },
  {
   "cell_type": "markdown",
   "source": [
    "## Run Details\n",
    "\n",
    "OPTIONAL: Write about the different models trained and their performance. Why do you think some models did better than others?\n",
    "\n",
    "TODO: In the cell below, use the `RunDetails` widget to show the different experiments."
   ],
   "metadata": {}
  },
  {
   "cell_type": "code",
   "execution_count": null,
   "source": [
    "RunDetails(automl).show()\r\n",
    "automl.wait_for_completion(show_output=True)\r\n",
    "\r\n",
    "assert(automl.get_status() == \"Completed\")"
   ],
   "outputs": [],
   "metadata": {
    "gather": {
     "logged": 1598431121770
    },
    "jupyter": {
     "outputs_hidden": false,
     "source_hidden": false
    },
    "nteract": {
     "transient": {
      "deleting": false
     }
    }
   }
  },
  {
   "cell_type": "markdown",
   "source": [
    "## Best Model\n",
    "\n",
    "TODO: In the cell below, get the best model from the automl experiments and display all the properties of the model.\n",
    "\n"
   ],
   "metadata": {}
  },
  {
   "cell_type": "code",
   "execution_count": null,
   "source": [],
   "outputs": [],
   "metadata": {
    "gather": {
     "logged": 1598431425670
    },
    "jupyter": {
     "outputs_hidden": false,
     "source_hidden": false
    },
    "nteract": {
     "transient": {
      "deleting": false
     }
    }
   }
  },
  {
   "cell_type": "code",
   "execution_count": null,
   "source": [
    "#TODO: Save the best model"
   ],
   "outputs": [],
   "metadata": {
    "gather": {
     "logged": 1598431426111
    },
    "jupyter": {
     "outputs_hidden": false,
     "source_hidden": false
    },
    "nteract": {
     "transient": {
      "deleting": false
     }
    }
   }
  },
  {
   "cell_type": "markdown",
   "source": [
    "## Model Deployment\n",
    "\n",
    "Remember you have to deploy only one of the two models you trained.. Perform the steps in the rest of this notebook only if you wish to deploy this model.\n",
    "\n",
    "TODO: In the cell below, register the model, create an inference config and deploy the model as a web service."
   ],
   "metadata": {}
  },
  {
   "cell_type": "code",
   "execution_count": null,
   "source": [],
   "outputs": [],
   "metadata": {
    "gather": {
     "logged": 1598431435189
    },
    "jupyter": {
     "outputs_hidden": false,
     "source_hidden": false
    },
    "nteract": {
     "transient": {
      "deleting": false
     }
    }
   }
  },
  {
   "cell_type": "markdown",
   "source": [
    "TODO: In the cell below, send a request to the web service you deployed to test it."
   ],
   "metadata": {
    "collapsed": true,
    "gather": {
     "logged": 1598431657736
    },
    "jupyter": {
     "outputs_hidden": false,
     "source_hidden": false
    },
    "nteract": {
     "transient": {
      "deleting": false
     }
    }
   }
  },
  {
   "cell_type": "code",
   "execution_count": null,
   "source": [],
   "outputs": [],
   "metadata": {
    "gather": {
     "logged": 1598432707604
    },
    "jupyter": {
     "outputs_hidden": false,
     "source_hidden": false
    },
    "nteract": {
     "transient": {
      "deleting": false
     }
    }
   }
  },
  {
   "cell_type": "markdown",
   "source": [
    "TODO: In the cell below, print the logs of the web service and delete the service"
   ],
   "metadata": {
    "collapsed": true,
    "gather": {
     "logged": 1598432765711
    },
    "jupyter": {
     "outputs_hidden": false,
     "source_hidden": false
    },
    "nteract": {
     "transient": {
      "deleting": false
     }
    }
   }
  },
  {
   "cell_type": "code",
   "execution_count": null,
   "source": [],
   "outputs": [],
   "metadata": {
    "jupyter": {
     "outputs_hidden": false,
     "source_hidden": false
    },
    "nteract": {
     "transient": {
      "deleting": false
     }
    }
   }
  }
 ],
 "metadata": {
  "kernel_info": {
   "name": "python3-azureml"
  },
  "kernelspec": {
   "name": "python3-azureml",
   "display_name": "Python 3.6 - AzureML",
   "language": "python"
  },
  "nteract": {
   "version": "nteract-front-end@1.0.0"
  },
  "interpreter": {
   "hash": "c2d7162e38cbe972ab9d255938448a87119f02533632fac9812f642a39a25e97"
  },
  "language_info": {
   "name": "python",
   "version": "3.6.9",
   "mimetype": "text/x-python",
   "codemirror_mode": {
    "name": "ipython",
    "version": 3
   },
   "pygments_lexer": "ipython3",
   "nbconvert_exporter": "python",
   "file_extension": ".py"
  }
 },
 "nbformat": 4,
 "nbformat_minor": 2
}