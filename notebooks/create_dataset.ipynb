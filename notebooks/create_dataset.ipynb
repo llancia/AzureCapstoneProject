{
 "cells": [
  {
   "cell_type": "code",
   "execution_count": 5,
   "source": [
    "from azureml.core import Dataset, Datastore\r\n",
    "from azureml.core import Workspace\r\n",
    "\r\n",
    "ws = Workspace.from_config()\r\n",
    "datastore =  ws.get_default_datastore()\r\n",
    "\r\n"
   ],
   "outputs": [],
   "metadata": {}
  },
  {
   "cell_type": "code",
   "execution_count": 3,
   "source": [
    "dataset_name = \"HrAnalytics-DataScientist\"\r\n",
    "description = \"\"\"\"\"\"\r\n",
    "local_path = r\"../data/\"\r\n",
    "dataset_file = 'aug_train.csv'\r\n",
    "datastore_path = 'udacity-lancia'\r\n",
    "datastore.upload(src_dir=local_path, target_path=datastore_path)\r\n",
    "\r\n",
    "\r\n",
    "dataset_file_remote = os.path.join(datastore_path,dataset_file)\r\n",
    "ds = Dataset.Tabular.from_delimited_files(path=[(datastore, (dataset_file_remote))])\r\n",
    "ds = ds.register(ws,\r\n",
    "                name= dataset_name,\r\n",
    "                description=description)\r\n",
    "df = ds.to_pandas_dataframe()\r\n"
   ],
   "outputs": [
    {
     "output_type": "stream",
     "name": "stderr",
     "text": [
      "\"Dataset.from_delimited_files\" is deprecated after version 1.0.69. Please use \"Dataset.Tabular.from_delimited_files\" instead. See Dataset API change notice at https://aka.ms/dataset-deprecation.\n"
     ]
    },
    {
     "output_type": "error",
     "ename": "HttpOperationError",
     "evalue": "Operation returned an invalid status code 'Invalid dataflow specified. Local data source path is not supported for this operation.'",
     "traceback": [
      "\u001b[1;31m---------------------------------------------------------------------------\u001b[0m",
      "\u001b[1;31mHttpOperationError\u001b[0m                        Traceback (most recent call last)",
      "\u001b[1;32m~\\AppData\\Local\\Temp/ipykernel_27660/1730668902.py\u001b[0m in \u001b[0;36m<module>\u001b[1;34m\u001b[0m\n\u001b[0;32m      4\u001b[0m \u001b[1;33m\u001b[0m\u001b[0m\n\u001b[0;32m      5\u001b[0m \u001b[0mds\u001b[0m \u001b[1;33m=\u001b[0m \u001b[0mDataset\u001b[0m\u001b[1;33m.\u001b[0m\u001b[0mfrom_delimited_files\u001b[0m\u001b[1;33m(\u001b[0m\u001b[0mpath\u001b[0m\u001b[1;33m)\u001b[0m\u001b[1;33m\u001b[0m\u001b[1;33m\u001b[0m\u001b[0m\n\u001b[1;32m----> 6\u001b[1;33m ds = ds.register(ws,\n\u001b[0m\u001b[0;32m      7\u001b[0m                 \u001b[0mname\u001b[0m\u001b[1;33m=\u001b[0m \u001b[0mdataset_name\u001b[0m\u001b[1;33m,\u001b[0m\u001b[1;33m\u001b[0m\u001b[1;33m\u001b[0m\u001b[0m\n\u001b[0;32m      8\u001b[0m                 description=description)\n",
      "\u001b[1;32m~\\Miniconda3\\envs\\azureml\\lib\\site-packages\\azureml\\data\\_loggerfactory.py\u001b[0m in \u001b[0;36mwrapper\u001b[1;34m(*args, **kwargs)\u001b[0m\n\u001b[0;32m    127\u001b[0m             \u001b[1;32mwith\u001b[0m \u001b[0m_LoggerFactory\u001b[0m\u001b[1;33m.\u001b[0m\u001b[0mtrack_activity\u001b[0m\u001b[1;33m(\u001b[0m\u001b[0mlogger\u001b[0m\u001b[1;33m,\u001b[0m \u001b[0mfunc\u001b[0m\u001b[1;33m.\u001b[0m\u001b[0m__name__\u001b[0m\u001b[1;33m,\u001b[0m \u001b[0mactivity_type\u001b[0m\u001b[1;33m,\u001b[0m \u001b[0mcustom_dimensions\u001b[0m\u001b[1;33m)\u001b[0m \u001b[1;32mas\u001b[0m \u001b[0mal\u001b[0m\u001b[1;33m:\u001b[0m\u001b[1;33m\u001b[0m\u001b[1;33m\u001b[0m\u001b[0m\n\u001b[0;32m    128\u001b[0m                 \u001b[1;32mtry\u001b[0m\u001b[1;33m:\u001b[0m\u001b[1;33m\u001b[0m\u001b[1;33m\u001b[0m\u001b[0m\n\u001b[1;32m--> 129\u001b[1;33m                     \u001b[1;32mreturn\u001b[0m \u001b[0mfunc\u001b[0m\u001b[1;33m(\u001b[0m\u001b[1;33m*\u001b[0m\u001b[0margs\u001b[0m\u001b[1;33m,\u001b[0m \u001b[1;33m**\u001b[0m\u001b[0mkwargs\u001b[0m\u001b[1;33m)\u001b[0m\u001b[1;33m\u001b[0m\u001b[1;33m\u001b[0m\u001b[0m\n\u001b[0m\u001b[0;32m    130\u001b[0m                 \u001b[1;32mexcept\u001b[0m \u001b[0mException\u001b[0m \u001b[1;32mas\u001b[0m \u001b[0me\u001b[0m\u001b[1;33m:\u001b[0m\u001b[1;33m\u001b[0m\u001b[1;33m\u001b[0m\u001b[0m\n\u001b[0;32m    131\u001b[0m                     \u001b[1;32mif\u001b[0m \u001b[0mhasattr\u001b[0m\u001b[1;33m(\u001b[0m\u001b[0mal\u001b[0m\u001b[1;33m,\u001b[0m \u001b[1;34m'activity_info'\u001b[0m\u001b[1;33m)\u001b[0m \u001b[1;32mand\u001b[0m \u001b[0mhasattr\u001b[0m\u001b[1;33m(\u001b[0m\u001b[0me\u001b[0m\u001b[1;33m,\u001b[0m \u001b[1;34m'error_code'\u001b[0m\u001b[1;33m)\u001b[0m\u001b[1;33m:\u001b[0m\u001b[1;33m\u001b[0m\u001b[1;33m\u001b[0m\u001b[0m\n",
      "\u001b[1;32m~\\Miniconda3\\envs\\azureml\\lib\\site-packages\\azureml\\core\\dataset.py\u001b[0m in \u001b[0;36mregister\u001b[1;34m(self, workspace, name, description, tags, visible, exist_ok, update_if_exist)\u001b[0m\n\u001b[0;32m    824\u001b[0m         \u001b[1;33m:\u001b[0m\u001b[0mrtype\u001b[0m\u001b[1;33m:\u001b[0m \u001b[0mazureml\u001b[0m\u001b[1;33m.\u001b[0m\u001b[0mcore\u001b[0m\u001b[1;33m.\u001b[0m\u001b[0mdataset\u001b[0m\u001b[1;33m.\u001b[0m\u001b[0mDataset\u001b[0m\u001b[1;33m\u001b[0m\u001b[1;33m\u001b[0m\u001b[0m\n\u001b[0;32m    825\u001b[0m         \"\"\"\n\u001b[1;32m--> 826\u001b[1;33m         return Dataset._client().register(\n\u001b[0m\u001b[0;32m    827\u001b[0m             workspace, name, self.definition, description, tags, visible, exist_ok, update_if_exist)\n\u001b[0;32m    828\u001b[0m \u001b[1;33m\u001b[0m\u001b[0m\n",
      "\u001b[1;32m~\\Miniconda3\\envs\\azureml\\lib\\site-packages\\azureml\\data\\_dataset_client.py\u001b[0m in \u001b[0;36mregister\u001b[1;34m(workspace, dataset_name, definition, description, tags, visible, exist_ok, update_if_exists)\u001b[0m\n\u001b[0;32m    181\u001b[0m                 is_visible=visible)\n\u001b[0;32m    182\u001b[0m             \u001b[0mclient\u001b[0m \u001b[1;33m=\u001b[0m \u001b[0m_DatasetClient\u001b[0m\u001b[1;33m.\u001b[0m\u001b[0m_get_client\u001b[0m\u001b[1;33m(\u001b[0m\u001b[0mworkspace\u001b[0m\u001b[1;33m)\u001b[0m\u001b[1;33m\u001b[0m\u001b[1;33m\u001b[0m\u001b[0m\n\u001b[1;32m--> 183\u001b[1;33m             dataset_dto = client.dataset.register(\n\u001b[0m\u001b[0;32m    184\u001b[0m                 \u001b[0mworkspace\u001b[0m\u001b[1;33m.\u001b[0m\u001b[0msubscription_id\u001b[0m\u001b[1;33m,\u001b[0m\u001b[1;33m\u001b[0m\u001b[1;33m\u001b[0m\u001b[0m\n\u001b[0;32m    185\u001b[0m                 \u001b[0mworkspace\u001b[0m\u001b[1;33m.\u001b[0m\u001b[0mresource_group\u001b[0m\u001b[1;33m,\u001b[0m\u001b[1;33m\u001b[0m\u001b[1;33m\u001b[0m\u001b[0m\n",
      "\u001b[1;32m~\\Miniconda3\\envs\\azureml\\lib\\site-packages\\azureml\\_restclient\\operations\\dataset_operations.py\u001b[0m in \u001b[0;36mregister\u001b[1;34m(self, subscription_id, resource_group_name, workspace_name, dataset_dto, register_as_pending, if_exists_ok, update_definition_if_exists, with_data_hash, custom_headers, raw, **operation_config)\u001b[0m\n\u001b[0;32m   1883\u001b[0m \u001b[1;33m\u001b[0m\u001b[0m\n\u001b[0;32m   1884\u001b[0m         \u001b[1;32mif\u001b[0m \u001b[0mresponse\u001b[0m\u001b[1;33m.\u001b[0m\u001b[0mstatus_code\u001b[0m \u001b[1;32mnot\u001b[0m \u001b[1;32min\u001b[0m \u001b[1;33m[\u001b[0m\u001b[1;36m200\u001b[0m\u001b[1;33m]\u001b[0m\u001b[1;33m:\u001b[0m\u001b[1;33m\u001b[0m\u001b[1;33m\u001b[0m\u001b[0m\n\u001b[1;32m-> 1885\u001b[1;33m             \u001b[1;32mraise\u001b[0m \u001b[0mHttpOperationError\u001b[0m\u001b[1;33m(\u001b[0m\u001b[0mself\u001b[0m\u001b[1;33m.\u001b[0m\u001b[0m_deserialize\u001b[0m\u001b[1;33m,\u001b[0m \u001b[0mresponse\u001b[0m\u001b[1;33m)\u001b[0m\u001b[1;33m\u001b[0m\u001b[1;33m\u001b[0m\u001b[0m\n\u001b[0m\u001b[0;32m   1886\u001b[0m \u001b[1;33m\u001b[0m\u001b[0m\n\u001b[0;32m   1887\u001b[0m         \u001b[0mdeserialized\u001b[0m \u001b[1;33m=\u001b[0m \u001b[1;32mNone\u001b[0m\u001b[1;33m\u001b[0m\u001b[1;33m\u001b[0m\u001b[0m\n",
      "\u001b[1;31mHttpOperationError\u001b[0m: Operation returned an invalid status code 'Invalid dataflow specified. Local data source path is not supported for this operation.'"
     ]
    }
   ],
   "metadata": {}
  },
  {
   "cell_type": "code",
   "execution_count": null,
   "source": [
    "df.head()"
   ],
   "outputs": [],
   "metadata": {}
  }
 ],
 "metadata": {
  "orig_nbformat": 4,
  "language_info": {
   "name": "python",
   "version": "3.8.10",
   "mimetype": "text/x-python",
   "codemirror_mode": {
    "name": "ipython",
    "version": 3
   },
   "pygments_lexer": "ipython3",
   "nbconvert_exporter": "python",
   "file_extension": ".py"
  },
  "kernelspec": {
   "name": "python3",
   "display_name": "Python 3.8.10 64-bit ('azureml': conda)"
  },
  "interpreter": {
   "hash": "c2d7162e38cbe972ab9d255938448a87119f02533632fac9812f642a39a25e97"
  }
 },
 "nbformat": 4,
 "nbformat_minor": 2
}