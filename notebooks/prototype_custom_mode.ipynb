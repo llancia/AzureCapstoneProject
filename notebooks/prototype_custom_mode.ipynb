{
 "cells": [
  {
   "cell_type": "code",
   "execution_count": 1,
   "source": [
    "from azureml.core import Workspace\n",
    "ws = Workspace.from_config()\n",
    "\n"
   ],
   "outputs": [],
   "metadata": {}
  },
  {
   "cell_type": "code",
   "execution_count": 2,
   "source": [
    "train_data = {\"Container\":\"azureml-blobstore-a762bf81-9d4c-409e-8026-266ab98acd39\",\n",
    "\"SasToken\":None,\n",
    "\"Uri\":\"wasbs://azureml-blobstore-a762bf81-9d4c-409e-8026-266ab98acd39@sawweictddsplayaml.blob.core.windows.net/azureml/7c6f5359-70b8-4905-aca9-b81086805c51/train_data\",\n",
    "\"Account\":\"sawweictddsplayaml\",\n",
    "\"RelativePath\":\"azureml/7c6f5359-70b8-4905-aca9-b81086805c51/train_data\",\n",
    "\"PathType\":0,\n",
    "\"AmlDataStoreName\":\"workspaceblobstore\"}"
   ],
   "outputs": [],
   "metadata": {}
  },
  {
   "cell_type": "code",
   "execution_count": 3,
   "source": [
    "datastore = ws.datastores[train_data[\"AmlDataStoreName\"]]\n"
   ],
   "outputs": [],
   "metadata": {}
  },
  {
   "cell_type": "code",
   "execution_count": 7,
   "source": [
    "from azureml.core import Dataset\n",
    "\n",
    "datastore_paths = [(datastore, train_data[\"RelativePath\"]+\"/*.csv\")]\n",
    "datastore_paths\n"
   ],
   "outputs": [
    {
     "output_type": "execute_result",
     "data": {
      "text/plain": [
       "[({\n",
       "    \"name\": \"workspaceblobstore\",\n",
       "    \"container_name\": \"azureml-blobstore-a762bf81-9d4c-409e-8026-266ab98acd39\",\n",
       "    \"account_name\": \"sawweictddsplayaml\",\n",
       "    \"protocol\": \"https\",\n",
       "    \"endpoint\": \"core.windows.net\"\n",
       "  },\n",
       "  'azureml/7c6f5359-70b8-4905-aca9-b81086805c51/train_data/*.csv')]"
      ]
     },
     "metadata": {},
     "execution_count": 7
    }
   ],
   "metadata": {}
  },
  {
   "cell_type": "code",
   "execution_count": 22,
   "source": [
    "train_data = Dataset.Tabular.from_delimited_files(path=datastore_paths)"
   ],
   "outputs": [],
   "metadata": {}
  },
  {
   "cell_type": "code",
   "execution_count": 23,
   "source": [
    "df = train_data.to_pandas_dataframe()\n"
   ],
   "outputs": [],
   "metadata": {}
  },
  {
   "cell_type": "code",
   "execution_count": 97,
   "source": [
    "from sklearn.model_selection import train_test_split\n",
    "\n",
    "def stratified_split(df, label=\"target\"):\n",
    "    X = df.drop(columns=[label])\n",
    "    y = df[label]\n",
    "    y = y.map({\"yes\":1, \"no\":0})\n",
    "    X_train, X_test, y_train, y_test = train_test_split(X, y, test_size=0.2, stratify=y, random_state = 99)\n",
    "\n",
    "\n",
    "    return X_train,X_test , y_train, y_test\n",
    "\n"
   ],
   "outputs": [],
   "metadata": {}
  },
  {
   "cell_type": "code",
   "execution_count": 79,
   "source": [
    "from sklearn.preprocessing import OneHotEncoder, StandardScaler, LabelEncoder\n",
    "from sklearn.impute import SimpleImputer, KNNImputer\n",
    "from sklearn.pipeline import Pipeline\n",
    "from sklearn.compose import ColumnTransformer\n",
    "from sklearn.linear_model import LogisticRegression\n",
    "\n",
    "\n",
    "df.columns\n"
   ],
   "outputs": [
    {
     "output_type": "execute_result",
     "data": {
      "text/plain": [
       "Index(['city', 'city_development_index', 'gender', 'relevent_experience',\n",
       "       'enrolled_university', 'education_level', 'major_discipline',\n",
       "       'experience', 'company_size', 'company_type', 'last_new_job',\n",
       "       'training_hours', 'target'],\n",
       "      dtype='object')"
      ]
     },
     "metadata": {},
     "execution_count": 79
    }
   ],
   "metadata": {}
  },
  {
   "cell_type": "code",
   "execution_count": 69,
   "source": [
    "from sklearn.base import TransformerMixin\n",
    "\n",
    "class StringCaster(TransformerMixin):\n",
    "    def fit(self,X,y=None):\n",
    "        return self\n",
    "\n",
    "    def transform(self,X,y=None):\n",
    "        return X.astype(str)\n",
    "    \n",
    "\n"
   ],
   "outputs": [],
   "metadata": {}
  },
  {
   "cell_type": "code",
   "execution_count": 86,
   "source": [
    "numeric_features = ['city_development_index', 'training_hours']\n",
    "\n",
    "numeric_transformer = Pipeline(steps=[\n",
    "    ('imputer', SimpleImputer(strategy='median')),\n",
    "    ('scaler', StandardScaler())])\n",
    "\n",
    "categorical_features = ['city',  'gender', 'relevent_experience',\n",
    "       'enrolled_university', 'education_level', 'major_discipline',\n",
    "       'experience', 'company_size', 'company_type', 'last_new_job']\n",
    "\n",
    "categorical_transformer = Pipeline(steps=[\n",
    "    ('caster', StringCaster()),\n",
    "    ('encoder', OneHotEncoder(handle_unknown='ignore')),\n",
    "    ]\n",
    ")\n"
   ],
   "outputs": [],
   "metadata": {}
  },
  {
   "cell_type": "code",
   "execution_count": 87,
   "source": [
    "numeric_transformer.fit_transform(df[numeric_features])"
   ],
   "outputs": [
    {
     "output_type": "execute_result",
     "data": {
      "text/plain": [
       "array([[ 0.65884494, -1.02360785],\n",
       "       [ 0.21359685, -0.34022018],\n",
       "       [-1.65644512,  0.04314363],\n",
       "       ...,\n",
       "       [-0.42594131,  4.41015747],\n",
       "       [ 0.47265029, -0.44022813],\n",
       "       [ 0.73979914, -0.87359592]])"
      ]
     },
     "metadata": {},
     "execution_count": 87
    }
   ],
   "metadata": {}
  },
  {
   "cell_type": "code",
   "execution_count": 88,
   "source": [
    "categorical_transformer.fit_transform( df[categorical_features])"
   ],
   "outputs": [
    {
     "output_type": "execute_result",
     "data": {
      "text/plain": [
       "<15326x191 sparse matrix of type '<class 'numpy.float64'>'\n",
       "\twith 153260 stored elements in Compressed Sparse Row format>"
      ]
     },
     "metadata": {},
     "execution_count": 88
    }
   ],
   "metadata": {}
  },
  {
   "cell_type": "code",
   "execution_count": 107,
   "source": [
    "from sklearn.metrics import accuracy_score, roc_auc_score, matthews_corrcoef\n",
    "\n",
    "\n",
    "preprocessor = ColumnTransformer(\n",
    "    transformers=[ \n",
    "        ('num', numeric_transformer, numeric_features),\n",
    "        ('cat', categorical_transformer, categorical_features)])\n",
    "\n",
    "\n",
    "clf = Pipeline(steps=[('preprocessor', preprocessor),\n",
    "                      ('classifier', LogisticRegression(max_iter=1000, C=0.5))])\n",
    "\n",
    "X_train, X_test, y_train, y_test = stratified_split(df)\n",
    "\n",
    "clf.fit(X_train, y_train)\n",
    "y_pred_score = clf.decision_function(X_test)\n",
    "y_pred = clf.predict(X_test)\n",
    "\n",
    "print(\"roc_auc: %.3f\" % roc_auc_score(y_test, y_pred_score))"
   ],
   "outputs": [
    {
     "output_type": "stream",
     "name": "stdout",
     "text": [
      "roc_auc: 0.795\n"
     ]
    }
   ],
   "metadata": {}
  },
  {
   "cell_type": "code",
   "execution_count": 108,
   "source": [
    "\n",
    "\n",
    "print(\"accuracy: %.3f\" % accuracy_score(y_test, y_pred))"
   ],
   "outputs": [
    {
     "output_type": "stream",
     "name": "stdout",
     "text": [
      "accuracy: 0.777\n"
     ]
    }
   ],
   "metadata": {}
  },
  {
   "cell_type": "code",
   "execution_count": 111,
   "source": [
    "print(\"mcc: %.3f\" % matthews_corrcoef(y_test, y_pred))"
   ],
   "outputs": [
    {
     "output_type": "stream",
     "name": "stdout",
     "text": [
      "mcc: 0.322\n"
     ]
    }
   ],
   "metadata": {}
  },
  {
   "cell_type": "code",
   "execution_count": 113,
   "source": [
    "from sklearn.metrics import classification_report\n",
    "\n",
    "print(classification_report(y_test,y_pred))"
   ],
   "outputs": [
    {
     "output_type": "stream",
     "name": "stdout",
     "text": [
      "              precision    recall  f1-score   support\n",
      "\n",
      "           0       0.81      0.92      0.86      2301\n",
      "           1       0.59      0.34      0.43       765\n",
      "\n",
      "    accuracy                           0.78      3066\n",
      "   macro avg       0.70      0.63      0.65      3066\n",
      "weighted avg       0.75      0.78      0.75      3066\n",
      "\n"
     ]
    }
   ],
   "metadata": {}
  },
  {
   "cell_type": "code",
   "execution_count": 114,
   "source": [
    "from sklearn.metrics import confusion_matrix\n",
    "\n",
    "print(confusion_matrix(y_test, y_pred))"
   ],
   "outputs": [
    {
     "output_type": "stream",
     "name": "stdout",
     "text": [
      "[[2125  176]\n",
      " [ 508  257]]\n"
     ]
    }
   ],
   "metadata": {}
  },
  {
   "cell_type": "code",
   "execution_count": null,
   "source": [],
   "outputs": [],
   "metadata": {}
  }
 ],
 "metadata": {
  "orig_nbformat": 4,
  "kernelspec": {
   "name": "python38-azureml",
   "display_name": "Python 3.8 - AzureML",
   "language": "python"
  },
  "language_info": {
   "name": "python",
   "version": "3.8.1",
   "mimetype": "text/x-python",
   "codemirror_mode": {
    "name": "ipython",
    "version": 3
   },
   "pygments_lexer": "ipython3",
   "nbconvert_exporter": "python",
   "file_extension": ".py"
  }
 },
 "nbformat": 4,
 "nbformat_minor": 2
}